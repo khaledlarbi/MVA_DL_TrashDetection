{
 "cells": [
  {
   "cell_type": "markdown",
   "metadata": {
    "toc": true
   },
   "source": [
    "<h1>Table of Contents<span class=\"tocSkip\"></span></h1>\n",
    "<div class=\"toc\"><ul class=\"toc-item\"><li><span><a href=\"#Preparation-of-the-proposed-region-to-train-the-Fast-RCNN\" data-toc-modified-id=\"Preparation-of-the-proposed-region-to-train-the-Fast-RCNN-1\"><span class=\"toc-item-num\">1&nbsp;&nbsp;</span>Preparation of the proposed region to train the Fast RCNN</a></span></li><li><span><a href=\"#Region-proposal-network\" data-toc-modified-id=\"Region-proposal-network-2\"><span class=\"toc-item-num\">2&nbsp;&nbsp;</span>Region proposal network</a></span></li><li><span><a href=\"#Training-RPN-network\" data-toc-modified-id=\"Training-RPN-network-3\"><span class=\"toc-item-num\">3&nbsp;&nbsp;</span>Training RPN network</a></span></li></ul></div>"
   ]
  },
  {
   "cell_type": "markdown",
   "metadata": {},
   "source": [
    "This notebook aims to provide functions that produce anchor boxes as decribed in the paper."
   ]
  },
  {
   "cell_type": "markdown",
   "metadata": {},
   "source": [
    "A box will be describe either as a numpy array $[y^-, x^-, y^+, x^+]$  or as a numpy array $[c_y, c_x, h,w]$\n",
    "\n",
    "TODO : CHECK +1"
   ]
  },
  {
   "cell_type": "code",
   "execution_count": 1,
   "metadata": {
    "ExecuteTime": {
     "end_time": "2021-12-08T10:12:09.605415Z",
     "start_time": "2021-12-08T10:12:09.494281Z"
    }
   },
   "outputs": [],
   "source": [
    "import numpy as np"
   ]
  },
  {
   "cell_type": "code",
   "execution_count": 195,
   "metadata": {
    "ExecuteTime": {
     "end_time": "2021-12-08T12:29:50.214970Z",
     "start_time": "2021-12-08T12:29:50.204936Z"
    }
   },
   "outputs": [],
   "source": [
    "def vertice_to_yxhw(anchor):\n",
    "    res = (np.mean((anchor[0],anchor[2])),np.mean((anchor[1],anchor[3])), anchor[2] - anchor[0] + 1, anchor[3] - anchor[1]+1)\n",
    "    return np.array(res)"
   ]
  },
  {
   "cell_type": "code",
   "execution_count": 3,
   "metadata": {
    "ExecuteTime": {
     "end_time": "2021-12-08T10:12:09.635442Z",
     "start_time": "2021-12-08T10:12:09.623420Z"
    }
   },
   "outputs": [],
   "source": [
    "def yxhw_to_vertice(anchor):\n",
    "    res = (anchor[0] - anchor[2]/2, anchor[1] - anchor[3]/2, anchor[0] + anchor[2]/2, anchor[1] + anchor[3]/2)\n",
    "    return np.array(res)"
   ]
  },
  {
   "cell_type": "code",
   "execution_count": 5,
   "metadata": {
    "ExecuteTime": {
     "end_time": "2021-12-08T10:12:09.683442Z",
     "start_time": "2021-12-08T10:12:09.670419Z"
    }
   },
   "outputs": [],
   "source": [
    "def anchor_box(center, ratio, scale, shape_initial, shape_featured):\n",
    "    sub_width = shape_initial[0]/shape_featured[0]\n",
    "    sub_height = shape_initial[1]/shape_featured[1]\n",
    "    anchor_width = sub_width*scale*np.sqrt(ratio)\n",
    "    anchor_height = sub_height*scale/np.sqrt(ratio)\n",
    "    \n",
    "    ym = center[1] - anchor_height/2\n",
    "    yp = center[1] + anchor_height/2\n",
    "    xm = center[0] - anchor_width/2\n",
    "    xp = center[0] + anchor_width/2\n",
    "    \n",
    "    anchor = np.array((ym,xm,yp,xp))\n",
    "    return(anchor)"
   ]
  },
  {
   "cell_type": "code",
   "execution_count": 6,
   "metadata": {
    "ExecuteTime": {
     "end_time": "2021-12-08T10:12:09.699442Z",
     "start_time": "2021-12-08T10:12:09.685422Z"
    }
   },
   "outputs": [],
   "source": [
    "def list_centers(shape_initial, shape_featured):\n",
    "    ratio_h = shape_initial[1]/shape_featured[1]\n",
    "    ratio_w = shape_initial[0]/shape_featured[0]\n",
    "    #intiail center is the center at the left top corner\n",
    "    all_centers = [np.array((ratio_w/2, ratio_h/2),dtype=float) + np.array((ratio_w*i, ratio_h*j),dtype=float) for i in range(int(shape_featured[0])) for j in range(int(shape_featured[1]))]\n",
    "    return(all_centers)"
   ]
  },
  {
   "cell_type": "code",
   "execution_count": 7,
   "metadata": {
    "ExecuteTime": {
     "end_time": "2021-12-08T10:12:09.715458Z",
     "start_time": "2021-12-08T10:12:09.701432Z"
    }
   },
   "outputs": [],
   "source": [
    "def anchor_boxes(list_ratios, list_scales, shape_initial, shape_featured):\n",
    "    list_center = list_centers(shape_initial, shape_featured)\n",
    "    all_anchors = [anchor_box(center, ratio, scale,shape_initial,shape_featured) for center in list_center for ratio in list_ratios\n",
    "                   for scale in list_scales]\n",
    "    return(all_anchors)"
   ]
  },
  {
   "cell_type": "code",
   "execution_count": 8,
   "metadata": {
    "ExecuteTime": {
     "end_time": "2021-12-08T10:12:09.731475Z",
     "start_time": "2021-12-08T10:12:09.717462Z"
    }
   },
   "outputs": [],
   "source": [
    "def check_anchor_inside(anchor_box, shape_initial):\n",
    "    ym = anchor_box[0]\n",
    "    yp = anchor_box[2]\n",
    "    xm = anchor_box[1]\n",
    "    xp = anchor_box[3]\n",
    "    is_inside = (min(xm,xp)>0) & (max(xm,xp)<shape_initial[0]) & (max(yp,ym) < shape_initial[1]) & (min(ym,yp) > 0) \n",
    "    return(is_inside)"
   ]
  },
  {
   "cell_type": "code",
   "execution_count": 9,
   "metadata": {
    "ExecuteTime": {
     "end_time": "2021-12-08T10:12:09.747469Z",
     "start_time": "2021-12-08T10:12:09.735461Z"
    }
   },
   "outputs": [],
   "source": [
    "def iou(box1,box2):\n",
    "    xm = max(box1[1], box2[1])\n",
    "    xp = min(box1[3], box2[3])\n",
    "    ym = max(box1[0], box2[0])\n",
    "    yp = min(box1[2], box2[2])\n",
    "    \n",
    "    intersection = 0\n",
    "    \n",
    "    if((xm < xp) &(ym < yp)):\n",
    "        intersection = (xp - xm)*(yp-ym)\n",
    "    \n",
    "    union = (box1[3]-box1[1])*(box1[2] - box1[0]) + (box2[3]-box2[1])*(box2[2] - box2[0]) - intersection\n",
    "    return(intersection/union)"
   ]
  },
  {
   "cell_type": "code",
   "execution_count": 12,
   "metadata": {
    "ExecuteTime": {
     "end_time": "2021-12-08T10:12:09.953481Z",
     "start_time": "2021-12-08T10:12:09.939462Z"
    }
   },
   "outputs": [],
   "source": [
    "def iou_anchors_vs_gtbox(list_anchors, list_gt_box):\n",
    "    res = np.transpose([[iou(anchor, gt_box) for anchor in list_anchors] for gt_box in list_gt_box])\n",
    "    return(np.array(res))"
   ]
  },
  {
   "cell_type": "markdown",
   "metadata": {},
   "source": [
    "**TODO** : changer la forme de cette fonction en utilisant que des *arrays*."
   ]
  },
  {
   "cell_type": "code",
   "execution_count": 13,
   "metadata": {
    "ExecuteTime": {
     "end_time": "2021-12-08T10:12:09.969481Z",
     "start_time": "2021-12-08T10:12:09.956482Z"
    }
   },
   "outputs": [],
   "source": [
    "#Return an array with :\n",
    "#for all ground truth box, the anchors which maximize the IOU with it\n",
    "#for all anchor, the max of the IOU\n",
    "\n",
    "#the first column of the array is the index and the last the IOU \n",
    "def best_anchors_from_iou(dt_anchors_vs_gtbox):\n",
    "    #index highest by gtbox (cond a)\n",
    "    dt_anchors_vs_gtbox.argmax(axis = 0)\n",
    "    ind_argmax = np.where(dt_anchors_vs_gtbox == dt_anchors_vs_gtbox.max(axis = 0))[0]\n",
    "    cond_a = dt_anchors_vs_gtbox[ind_argmax,:].max(axis = 1)\n",
    "    \n",
    "    #highest by anchors box (cond b)\n",
    "    index = dt_anchors_vs_gtbox.argmax(axis = 1)\n",
    "    iou_max = dt_anchors_vs_gtbox.max(axis = 1)\n",
    "    cond_b = dt_anchors_vs_gtbox[np.arange(dt_anchors_vs_gtbox.shape[0]),index]\n",
    "    \n",
    "    index_res = np.concatenate((ind_argmax,np.arange(dt_anchors_vs_gtbox.shape[0])))\n",
    "    res = np.concatenate((cond_a, cond_b), axis=0)\n",
    "    res = np.column_stack((index_res,res))\n",
    "    return(res)"
   ]
  },
  {
   "cell_type": "code",
   "execution_count": 255,
   "metadata": {
    "ExecuteTime": {
     "end_time": "2021-12-08T15:03:59.812590Z",
     "start_time": "2021-12-08T15:03:59.798569Z"
    }
   },
   "outputs": [],
   "source": [
    "#label_from_iou returns a np.array containing for each anchor its label. (+1 if foreground, 0 if background and -1 if not used\n",
    "#during the learning phase)\n",
    "#The default thresholds are defined according the original paper about Fatest RCNN.\n",
    "\n",
    "def label_from_iou(dt_anchors_vs_gtbox,pos_threshold = 0.7, neg_threshold = 0.3):\n",
    "    label = np.full(dt_anchors_vs_gtbox.shape[0],-1)\n",
    "    iou_max = dt_anchors_vs_gtbox.max(axis = 1)\n",
    "    #positive labels : 1\n",
    "    label[iou_max > pos_threshold] = 1\n",
    "    #negative labels : 0\n",
    "    label[iou_max < neg_threshold] = 0\n",
    "    #for anchors whose maximize IOU for a given object : +1\n",
    "    dt_anchors_vs_gtbox.argmax(axis = 0)\n",
    "    ind_argmax = np.where(dt_anchors_vs_gtbox == dt_anchors_vs_gtbox.max(axis = 0))[0]\n",
    "    label[ind_argmax] = 1\n",
    "    return(label)"
   ]
  },
  {
   "cell_type": "code",
   "execution_count": 16,
   "metadata": {
    "ExecuteTime": {
     "end_time": "2021-12-08T10:12:10.113518Z",
     "start_time": "2021-12-08T10:12:10.099521Z"
    }
   },
   "outputs": [],
   "source": [
    "def loc(anchor_box, gt_box):\n",
    "    anchor_box = vertice_to_yxhw(anchor_box)\n",
    "    gt_box = vertice_to_yxhw(gt_box)\n",
    "    \n",
    "    y = (gt_box[0] - anchor_box[0])/anchor_box[2]\n",
    "    x = (gt_box[1] - anchor_box[1])/anchor_box[3]\n",
    "    w = np.log(gt_box[3]/anchor_box[3])\n",
    "    h = np.log(gt_box[2]/anchor_box[2])\n",
    "    \n",
    "    return np.array((y,x,h,w))"
   ]
  },
  {
   "cell_type": "code",
   "execution_count": 17,
   "metadata": {
    "ExecuteTime": {
     "end_time": "2021-12-08T10:12:10.129506Z",
     "start_time": "2021-12-08T10:12:10.115508Z"
    }
   },
   "outputs": [],
   "source": [
    "def deloc(anchor_box, reparam_box):\n",
    "    anchor_box = vertice_to_yxhw(anchor_box)\n",
    "    y = anchor_box[0] + (reparam_box[0] * anchor_box[2])\n",
    "    x = anchor_box[1] + (reparam_box[1] * anchor_box[3])\n",
    "    h = np.exp(reparam_box[2])*anchor_box[2]\n",
    "    w = np.exp(reparam_box[3])*anchor_box[3]\n",
    "    return np.array((y,x,h,w))"
   ]
  },
  {
   "cell_type": "code",
   "execution_count": 240,
   "metadata": {
    "ExecuteTime": {
     "end_time": "2021-12-08T14:51:40.071352Z",
     "start_time": "2021-12-08T14:51:40.066367Z"
    }
   },
   "outputs": [],
   "source": [
    "def reparam_all_anchors(list_anchors, list_gt_box,pos_threshold = 0.7, neg_threshold = 0.3):\n",
    "    iou = iou_anchors_vs_gtbox(list_anchors, gt_box)\n",
    "    index_max_gtbox = iou.argmax(axis = 1)\n",
    "    gt_box_by_anchors = [list_gt_box[i] for i in index_max_gtbox]\n",
    "    #suboptimal\n",
    "    res = [loc(anchor, gt_box) for anchor,gt_box in zip(list_anchors, gt_box_by_anchors)] \n",
    "    #compute labels\n",
    "    labels = label_from_iou(iou, pos_threshold, neg_threshold)\n",
    "    return res,labels"
   ]
  },
  {
   "cell_type": "code",
   "execution_count": 20,
   "metadata": {
    "ExecuteTime": {
     "end_time": "2021-12-08T10:12:11.912871Z",
     "start_time": "2021-12-08T10:12:11.898847Z"
    }
   },
   "outputs": [],
   "source": [
    "def deparam_all_anchors(list_anchors, list_box_param):\n",
    "    res = [(deloc(anchor, box_param)) for anchor,box_param in zip(list_anchors, list_box_param)]\n",
    "    return res"
   ]
  },
  {
   "cell_type": "code",
   "execution_count": 259,
   "metadata": {
    "ExecuteTime": {
     "end_time": "2021-12-08T15:07:01.728289Z",
     "start_time": "2021-12-08T15:07:01.717249Z"
    }
   },
   "outputs": [],
   "source": [
    "#TODO : heck how to fill when\n",
    "\n",
    "def index_training_proposal(dt_anchors_vs_gtbox, nsize = 256, pos_ratio = 0.5,pos_threshold = 0.7, neg_threshold = 0.3):\n",
    "    #number of positive units we need to reach in the training sample (we want a balanced sample)\n",
    "    nb_pos_to_drawn = round(nsize*pos_ratio)\n",
    "    lab = label_from_iou(dt_anchors_vs_gtbox, pos_threshold, neg_threshold)\n",
    "    pos_lab = np.where(lab == 1)[0]\n",
    "    neg_lab = np.where(lab == 0)[0]\n",
    "    pos = len(pos_lab)\n",
    "    neg = len(neg_lab)\n",
    "    \n",
    "    if (pos > nb_pos_to_drawn):\n",
    "        disabled_index_pos = np.random.choice(pos_lab, size=(pos - nb_pos_to_drawn), replace = False)\n",
    "        lab[disabled_index_pos] = -1\n",
    "    \n",
    "    if (neg > nsize - nb_pos_to_drawn):\n",
    "        if(pos < nb_pos_to_drawn):\n",
    "            disabled_index_neg = np.random.choice(neg_lab, size=(neg - nsize + pos), replace = False)\n",
    "        else:\n",
    "            disabled_index_neg = np.random.choice(neg_lab, size=(neg + nb_pos_to_drawn - nsize), replace = False)\n",
    "        \n",
    "        lab[disabled_index_neg] = -1    \n",
    "    \n",
    "    res = np.where((lab == 0) | (lab == 1))[0]\n",
    "    return res"
   ]
  },
  {
   "cell_type": "code",
   "execution_count": 275,
   "metadata": {
    "ExecuteTime": {
     "end_time": "2021-12-08T15:16:50.199080Z",
     "start_time": "2021-12-08T15:16:50.187071Z"
    }
   },
   "outputs": [],
   "source": [
    "#TODO : heck how to fill when\n",
    "\n",
    "def batch_training_proposal_RPN(image, feature_map, ratios, scales,gt_box,nsize = 256, pos_ratio = 0.5, pos_threshold = 0.7, neg_threshold = 0.3):\n",
    "    #define all anchors using the feature map and the initial picture shapes.\n",
    "    anchors_boxes = anchor_boxes(ratios, scales, image_torch.shape[2:], feature_torch.shape[2:])\n",
    "    #check if each box is inside the initial image\n",
    "    anchors_boxes = [box for box in anchors_boxes if check_anchor_inside(box, image_torch.shape[2:])]\n",
    "    #IOU anchors vs gt box\n",
    "    iou_anc_gt_box = iou_anchors_vs_gtbox(anchors_boxes, gt_box)\n",
    "    #Index of the units we keep\n",
    "    ind_for_sample = index_training_proposal(iou_anc_gt_box,nsize, pos_ratio)\n",
    "    anchors_boxes_reparam,lab_anchors = reparam_all_anchors(anchors_boxes,gt_box,pos_threshold, neg_threshold)\n",
    "    return ({\"image\" : image, \"boxes\" : torch.from_numpy(np.array(anchors_boxes_reparam)[ind_for_sample,:]),\n",
    "             \"labels\" : torch.from_numpy(lab_anchors[ind_for_sample])})"
   ]
  },
  {
   "cell_type": "code",
   "execution_count": 261,
   "metadata": {
    "ExecuteTime": {
     "end_time": "2021-12-08T15:07:40.207727Z",
     "start_time": "2021-12-08T15:07:40.177731Z"
    }
   },
   "outputs": [],
   "source": [
    "image_torch = 800*torch.rand((1,3,800,800))\n",
    "feature_torch = torch.rand([1,512,50,50])\n",
    "\n",
    "ratio = [0.5, 1, 2]\n",
    "anchor_scales = [8, 16, 32]\n",
    "\n",
    "gt_box = [np.array([20, 30, 400, 500]), np.array([300, 400, 500, 600])]\n",
    "labels_gt_box = np.array((\"chien\",\"chat\"))"
   ]
  },
  {
   "cell_type": "code",
   "execution_count": 274,
   "metadata": {
    "ExecuteTime": {
     "end_time": "2021-12-08T15:16:28.076969Z",
     "start_time": "2021-12-08T15:16:26.915902Z"
    }
   },
   "outputs": [],
   "source": [
    "batch_rpn = batch_training_proposal_RPN(image_torch, feature_torch, ratio, anchor_scales, gt_box,256,0.5,0.7,0.3)"
   ]
  },
  {
   "cell_type": "markdown",
   "metadata": {},
   "source": [
    "# Preparation of the proposed region to train the Fast RCNN"
   ]
  },
  {
   "cell_type": "code",
   "execution_count": 23,
   "metadata": {
    "ExecuteTime": {
     "end_time": "2021-12-08T10:12:12.528917Z",
     "start_time": "2021-12-08T10:12:12.514897Z"
    }
   },
   "outputs": [],
   "source": [
    "def clip_predicted_boxes(list_box, th_min, th_max):\n",
    "    list_box = np.array(list_box)\n",
    "    return list(np.clip(list_box,th_min,th_max))"
   ]
  },
  {
   "cell_type": "code",
   "execution_count": 24,
   "metadata": {
    "ExecuteTime": {
     "end_time": "2021-12-08T10:12:12.544953Z",
     "start_time": "2021-12-08T10:12:12.530897Z"
    }
   },
   "outputs": [],
   "source": [
    "#remove all boxes with at least the width or the height less that 16\n",
    "def boxes_hw_min(list_box, list_score, min_size = 16):\n",
    "    boxes = np.array(list_box)\n",
    "    height = boxes[:, 2] - boxes[:, 0]\n",
    "    width = boxes[:, 3] - boxes[:, 1]\n",
    "    box_kept = np.where((height > min_size) & (width > min_size))[0]\n",
    "    list_box_kept = [list_box[j] for j in box_kept]\n",
    "    list_score = [list_score[j] for j in box_kept]\n",
    "    return list_box_kept, list_score"
   ]
  },
  {
   "cell_type": "code",
   "execution_count": 271,
   "metadata": {
    "ExecuteTime": {
     "end_time": "2021-12-08T15:13:45.954927Z",
     "start_time": "2021-12-08T15:13:45.940925Z"
    }
   },
   "outputs": [],
   "source": [
    "def nms(list_box, list_score, top_pre, top_post, thresold):\n",
    "    list_score = np.array(list_score)\n",
    "    order = list_score.argsort()[::-1]\n",
    "    order = order[:top_pre]\n",
    "    keep = []\n",
    "    list_box = np.array(list_box)\n",
    "    \n",
    "    ym = list_box[:,0]\n",
    "    xm = list_box[:,1]\n",
    "    yp = list_box[:,2]\n",
    "    xp = list_box[:,3]\n",
    "    areas = (xp - xm + 1) * (yp - ym + 1)\n",
    "\n",
    "    while len(order)>0:\n",
    "        i = order[0]\n",
    "        yym = np.maximum(ym[i], ym[order[1:]])\n",
    "        xxm = np.maximum(xm[i], xm[order[1:]])\n",
    "        yyp = np.minimum(yp[i], yp[order[1:]])\n",
    "        xxp = np.minimum(xp[i], xp[order[1:]])\n",
    "        \n",
    "        width = np.maximum(0.0, xxp - xxm + 1)\n",
    "        height = np.maximum(0.0, yyp - yym + 1)\n",
    "        intersection = width*height\n",
    "        ovr = intersection/(areas[i] + areas[order[1:]] - intersection)\n",
    "        \n",
    "        ind_to_keep = np.where(ovr <= thresold)[0]\n",
    "        order = order[ind_to_keep + 1]\n",
    "        keep.append(i)\n",
    "    \n",
    "    keep = keep[:top_post]\n",
    "    return(list_box[keep,:])"
   ]
  },
  {
   "cell_type": "markdown",
   "metadata": {},
   "source": [
    "# Region proposal network"
   ]
  },
  {
   "cell_type": "code",
   "execution_count": 31,
   "metadata": {
    "ExecuteTime": {
     "end_time": "2021-12-08T10:13:12.304783Z",
     "start_time": "2021-12-08T10:13:11.308609Z"
    }
   },
   "outputs": [
    {
     "data": {
      "text/plain": [
       "tensor([0., 0., 0., 0., 0., 0., 0., 0., 0., 0., 0., 0., 0., 0., 0., 0., 0., 0.])"
      ]
     },
     "execution_count": 31,
     "metadata": {},
     "output_type": "execute_result"
    }
   ],
   "source": [
    "import torch\n",
    "import torch.nn as nn\n",
    "mid_channels = 512\n",
    "in_channels = 512 \n",
    "n_anchor = 9 #nb_weight * nb_height\n",
    "conv1 = nn.Conv2d(in_channels, mid_channels, 3, 1, 1)\n",
    "reg_layer = nn.Conv2d(mid_channels, n_anchor *4, 1, 1, 0)\n",
    "cls_layer = nn.Conv2d(mid_channels, n_anchor *2, 1, 1, 0) \n",
    "\n",
    "# conv sliding layer\n",
    "conv1.weight.data.normal_(0, 0.01)\n",
    "conv1.bias.data.zero_()\n",
    "# Regression layer\n",
    "reg_layer.weight.data.normal_(0, 0.01)\n",
    "reg_layer.bias.data.zero_()\n",
    "# classification layer\n",
    "cls_layer.weight.data.normal_(0, 0.01)\n",
    "cls_layer.bias.data.zero_()"
   ]
  },
  {
   "cell_type": "code",
   "execution_count": 277,
   "metadata": {
    "ExecuteTime": {
     "end_time": "2021-12-08T15:18:23.349689Z",
     "start_time": "2021-12-08T15:18:23.331673Z"
    }
   },
   "outputs": [],
   "source": [
    "x = torch.rand(1,512,50,50)\n",
    "pred_anchor_locs = reg_layer(x)\n",
    "pred_cls_scores = cls_layer(x)"
   ]
  },
  {
   "cell_type": "code",
   "execution_count": 278,
   "metadata": {
    "ExecuteTime": {
     "end_time": "2021-12-08T15:18:42.671403Z",
     "start_time": "2021-12-08T15:18:42.657403Z"
    },
    "scrolled": true
   },
   "outputs": [
    {
     "name": "stdout",
     "output_type": "stream",
     "text": [
      "torch.Size([1, 22500, 4])\n",
      "tensor([[[[-0.1740,  0.0991,  0.0625,  ..., -0.0828, -0.1029,  0.1652],\n",
      "          [-0.0816,  0.0275,  0.0383,  ..., -0.1458, -0.1004, -0.0158],\n",
      "          [-0.2977,  0.0761,  0.1463,  ..., -0.2351,  0.0909,  0.0812],\n",
      "          ...,\n",
      "          [-0.0606, -0.0236,  0.1522,  ..., -0.1481, -0.1567,  0.0401],\n",
      "          [-0.1063,  0.0574,  0.0592,  ..., -0.0924, -0.0654,  0.1167],\n",
      "          [-0.1468,  0.0304,  0.1343,  ..., -0.1027, -0.1520, -0.0159]],\n",
      "\n",
      "         [[-0.2752,  0.1217,  0.0830,  ..., -0.0507, -0.1200, -0.0832],\n",
      "          [-0.1605,  0.0084,  0.2176,  ..., -0.1623, -0.0502,  0.0736],\n",
      "          [-0.1656,  0.1078,  0.1727,  ..., -0.1233,  0.0354,  0.0264],\n",
      "          ...,\n",
      "          [-0.2993,  0.0048,  0.1715,  ..., -0.2199, -0.0642,  0.0208],\n",
      "          [-0.2071,  0.0397,  0.2163,  ..., -0.1284, -0.0532, -0.0259],\n",
      "          [-0.1483, -0.0049,  0.0931,  ..., -0.1115, -0.0228, -0.0831]],\n",
      "\n",
      "         [[-0.0672, -0.0358,  0.1270,  ..., -0.1847, -0.1135,  0.0343],\n",
      "          [-0.1410, -0.0104,  0.0882,  ..., -0.0655, -0.1176, -0.0327],\n",
      "          [-0.0828,  0.0942,  0.0440,  ..., -0.0986, -0.0687,  0.0282],\n",
      "          ...,\n",
      "          [-0.1625, -0.0065,  0.0525,  ..., -0.1250, -0.0643, -0.0502],\n",
      "          [-0.2231, -0.0209,  0.1052,  ..., -0.1182, -0.1492,  0.1111],\n",
      "          [-0.2395,  0.0285,  0.0591,  ..., -0.0526, -0.0362,  0.0231]],\n",
      "\n",
      "         ...,\n",
      "\n",
      "         [[-0.0830, -0.0966,  0.1540,  ..., -0.0710, -0.1816,  0.0649],\n",
      "          [-0.1775, -0.0273,  0.1892,  ..., -0.1295,  0.0033, -0.1014],\n",
      "          [-0.0441,  0.0702, -0.0068,  ..., -0.1045,  0.0777,  0.0022],\n",
      "          ...,\n",
      "          [-0.1229,  0.0618,  0.0291,  ..., -0.1590, -0.0192,  0.0636],\n",
      "          [-0.0306, -0.0222,  0.0691,  ..., -0.1190, -0.1614,  0.0479],\n",
      "          [-0.1030, -0.0195,  0.1338,  ..., -0.1526,  0.0300, -0.0816]],\n",
      "\n",
      "         [[-0.0368, -0.0728,  0.1928,  ..., -0.1616, -0.0373, -0.0539],\n",
      "          [-0.1676,  0.0680,  0.0562,  ..., -0.2173, -0.0529, -0.0100],\n",
      "          [-0.2053,  0.1174,  0.0995,  ..., -0.1296,  0.0225,  0.0216],\n",
      "          ...,\n",
      "          [-0.1458, -0.0536,  0.2139,  ..., -0.1176,  0.0434,  0.0826],\n",
      "          [-0.0606,  0.0304,  0.0060,  ..., -0.1019, -0.0520,  0.0777],\n",
      "          [-0.1105,  0.1063,  0.0398,  ..., -0.0645, -0.1419, -0.0883]],\n",
      "\n",
      "         [[-0.0629,  0.0917,  0.0345,  ..., -0.1305, -0.1026,  0.0031],\n",
      "          [-0.1200,  0.0559,  0.0459,  ..., -0.0371, -0.1116, -0.0368],\n",
      "          [ 0.0750,  0.0377,  0.1004,  ..., -0.1502, -0.2003, -0.0278],\n",
      "          ...,\n",
      "          [-0.1231,  0.0165,  0.0373,  ..., -0.0899, -0.1118,  0.2162],\n",
      "          [-0.0665,  0.0607,  0.1031,  ..., -0.0357, -0.0374,  0.0602],\n",
      "          [-0.1218,  0.0808,  0.0846,  ..., -0.0420, -0.0531, -0.1226]]]],\n",
      "       grad_fn=<CloneBackward0>)\n",
      "torch.Size([1, 22500])\n",
      "torch.Size([1, 22500, 2])\n"
     ]
    }
   ],
   "source": [
    "pred_anchor_locs = pred_anchor_locs.permute(0, 2, 3, 1).contiguous().view(1, -1, 4)\n",
    "print(pred_anchor_locs.shape)\n",
    "\n",
    "pred_cls_scores = pred_cls_scores.permute(0, 2, 3, 1).contiguous()\n",
    "print(pred_cls_scores)\n",
    "#Out torch.Size([1, 50, 50, 18])\n",
    "objectness_score = pred_cls_scores.view(1, 50, 50, 9, 2)[:, :, :, :, 1].contiguous().view(1, -1)\n",
    "print(objectness_score.shape)\n",
    "#Out torch.Size([1, 22500])\n",
    "pred_cls_scores  = pred_cls_scores.view(1, -1, 2)\n",
    "print(pred_cls_scores.shape)\n",
    "# Out torch.size([1, 22500, 2])"
   ]
  },
  {
   "cell_type": "code",
   "execution_count": 203,
   "metadata": {
    "ExecuteTime": {
     "end_time": "2021-12-08T12:33:42.021914Z",
     "start_time": "2021-12-08T12:33:42.002910Z"
    }
   },
   "outputs": [],
   "source": [
    "#boxes as tensor [N, 5]\n",
    "def roi_pooling(boxes, feature_map,scale,adaptative_max_pool):\n",
    "    boxes_coord = boxes[:,1:].mul(scale).long() #scale + round\n",
    "    res = [feature_map.narrow(0, boxes[i,0].int(),1)[..., boxes_coord[i,1]:(boxes_coord[i,3]+1), boxes_coord[i,0]:(boxes_coord[i,2]+1)] for i in range(boxes_coord.shape[0])]\n",
    "    res = [adaptative_max_pool(element) for element in res]\n",
    "    res = torch.cat(res, axis = 0)\n",
    "    return(res)"
   ]
  },
  {
   "cell_type": "code",
   "execution_count": 265,
   "metadata": {
    "ExecuteTime": {
     "end_time": "2021-12-08T15:11:04.141928Z",
     "start_time": "2021-12-08T15:10:53.973308Z"
    }
   },
   "outputs": [],
   "source": [
    "#RPN\n",
    "image = (800,800)\n",
    "\n",
    "pred_anchor = torch.squeeze(pred_anchor_locs,0).detach().numpy()\n",
    "pred_score = torch.squeeze(objectness_score,0).detach().numpy()\n",
    "\n",
    "deparam_pred = deparam_all_anchors(list_anchors, pred_anchor)\n",
    "deparam_pred = clip_predicted_boxes(deparam_pred, 0, image[1])\n",
    "box_pred, score_pred = boxes_hw_min(deparam_pred, pred_score,16)\n",
    "roi_pred= nms(box_pred, np.array(score_pred), 12000, 2000, 0.7)"
   ]
  },
  {
   "cell_type": "code",
   "execution_count": 199,
   "metadata": {
    "ExecuteTime": {
     "end_time": "2021-12-08T12:31:41.369954Z",
     "start_time": "2021-12-08T12:31:41.354955Z"
    }
   },
   "outputs": [],
   "source": [
    "#0 in labels_gt_box must be the background\n",
    "def batch_training_proposal_FastRCNN(feature_map,list_box,list_gt_box,labels_gt_box, nsize = 128, pos_ratio = 0.25, pos_iou_threshold = 0.5,\n",
    "                                    neg_iou_threshold_p = 0.5, neg_iou_threshold_n = 0.0, adaptative_max_pool = torch.nn.AdaptiveMaxPool2d((7,7),return_indices=False),scale = 1):\n",
    "    #compute iou between each pair\n",
    "    dt_anchors_vs_gtbox = iou_anchors_vs_gtbox(list_box,list_gt_box)\n",
    "    \n",
    "    #number of positive units we need to reach in the training sample (we want a balanced sample)\n",
    "    nb_pos_to_drawn = round(nsize*pos_ratio)\n",
    "    iou = iou_anchors_vs_gtbox(roi_pred, gt_box)\n",
    "    #compute the maximum for each anchor\n",
    "    gt_roi_label = np.argmax(iou, axis = 1)\n",
    "    gt_roi_max = np.max(iou, axis = 1)\n",
    "    labels = labels_gt_box[gt_roi_label]\n",
    "    \n",
    "    #assign the label if greater that pos_iou_threshold\n",
    "    #assign background if between the two negative thresholds\n",
    "    gt_pos = np.where((gt_roi_max > pos_iou_threshold))[0]\n",
    "    gt_neg = np.where((gt_roi_max < neg_iou_threshold_p) & (gt_roi_max > neg_iou_threshold_n))[0] #background -- 0\n",
    "\n",
    "    #Nb of positives and negatives boxes get using the thresholds\n",
    "    pos = len(gt_pos)\n",
    "    neg = len(gt_neg)\n",
    "    \n",
    "    #Subsampling from it\n",
    "    if (pos > nb_pos_to_drawn):\n",
    "        disabled_index_pos = np.random.choice(range(len(gt_pos)), size=(pos - nb_pos_to_drawn), replace = False)\n",
    "        gt_pos = np.delete(gt_pos, disabled_index_pos)\n",
    "    \n",
    "    if (neg > nsize - nb_pos_to_drawn):\n",
    "        if(pos < nb_pos_to_drawn):\n",
    "            disabled_index_neg = np.random.choice(range(len(gt_neg)), size=(neg - nsize + pos), replace = False)\n",
    "            gt_neg = np.delete(gt_neg, disabled_index_neg)\n",
    "        else:\n",
    "            disabled_index_neg = np.random.choice(range(len(gt_neg)), size=(neg + nb_pos_to_drawn - nsize), replace = False)\n",
    "            gt_neg = np.delete(gt_neg, disabled_index_neg)\n",
    "        \n",
    "    \n",
    "    #if negative : assign background labels with it's \"0\"\n",
    "    labels[gt_neg] = \"0\"\n",
    "    final_index = np.append(gt_pos,gt_neg)\n",
    "    \n",
    "    #Non reparams\n",
    "    non_reparam = np.array(list_box)[final_index,:]\n",
    "    #Need to transform from yxhw to xywh\n",
    "    non_reparam = non_reparam[:,(1,0,3,2)]\n",
    "    non_reparam = np.hstack((np.zeros((non_reparam.shape[0],1)), non_reparam))\n",
    "    non_reparam = torch.from_numpy(non_reparam)\n",
    "    data_for_training =roi_pooling(non_reparam, feature_map,scale, adaptive_max_pool)\n",
    "    #Reparams\n",
    "    reparam = [loc(box,gt_box) for box,gt_box in zip(non_reparam, list(np.array(list_gt_box)[gt_roi_label,:]))]\n",
    "    \n",
    "    return  data_for_training, reparam,labels[final_index]"
   ]
  },
  {
   "cell_type": "code",
   "execution_count": 204,
   "metadata": {
    "ExecuteTime": {
     "end_time": "2021-12-08T12:33:57.691753Z",
     "start_time": "2021-12-08T12:33:57.518759Z"
    }
   },
   "outputs": [],
   "source": [
    "data_x, box_y, label_y = batch_training_proposal_FastRCNN(test,roi_pred,gt_box,labels_gt_box, nsize = 128, pos_ratio = 0.25, pos_iou_threshold = 0.5,\n",
    "                                    neg_iou_threshold_p = 0.5, neg_iou_threshold_n = 0.0,adaptative_max_pool = torch.nn.AdaptiveMaxPool2d((7,7),return_indices=False),\n",
    "                                 scale = 1/16.)"
   ]
  },
  {
   "cell_type": "code",
   "execution_count": 205,
   "metadata": {
    "ExecuteTime": {
     "end_time": "2021-12-08T12:34:13.565759Z",
     "start_time": "2021-12-08T12:34:13.551764Z"
    }
   },
   "outputs": [
    {
     "name": "stdout",
     "output_type": "stream",
     "text": [
      "torch.Size([128, 512, 4, 4])\n"
     ]
    }
   ],
   "source": [
    "print(data_x.shape)"
   ]
  },
  {
   "cell_type": "markdown",
   "metadata": {},
   "source": [
    "# Training RPN network"
   ]
  },
  {
   "cell_type": "code",
   "execution_count": 279,
   "metadata": {
    "ExecuteTime": {
     "end_time": "2021-12-08T16:51:06.996717Z",
     "start_time": "2021-12-08T16:51:06.961695Z"
    }
   },
   "outputs": [
    {
     "data": {
      "text/plain": [
       "tensor([0., 0., 0., 0., 0., 0., 0., 0., 0., 0., 0., 0., 0., 0., 0., 0., 0., 0.])"
      ]
     },
     "execution_count": 279,
     "metadata": {},
     "output_type": "execute_result"
    }
   ],
   "source": [
    "import torch\n",
    "import torch.nn as nn\n",
    "mid_channels = 512\n",
    "in_channels = 512 \n",
    "n_anchor = 9 #nb_weight * nb_height\n",
    "conv1 = nn.Conv2d(in_channels, mid_channels, 3, 1, 1)\n",
    "reg_layer = nn.Conv2d(mid_channels, n_anchor *4, 1, 1, 0)\n",
    "cls_layer = nn.Conv2d(mid_channels, n_anchor *2, 1, 1, 0) \n",
    "\n",
    "# conv sliding layer\n",
    "conv1.weight.data.normal_(0, 0.01)\n",
    "conv1.bias.data.zero_()\n",
    "# Regression layer\n",
    "reg_layer.weight.data.normal_(0, 0.01)\n",
    "reg_layer.bias.data.zero_()\n",
    "# classification layer\n",
    "cls_layer.weight.data.normal_(0, 0.01)\n",
    "cls_layer.bias.data.zero_()"
   ]
  },
  {
   "cell_type": "code",
   "execution_count": 302,
   "metadata": {
    "ExecuteTime": {
     "end_time": "2021-12-08T17:44:45.851484Z",
     "start_time": "2021-12-08T17:44:45.489460Z"
    }
   },
   "outputs": [],
   "source": [
    "from torchvision import models\n",
    "\n",
    "resnet50 = models.resnet50(pretrained=True)\n",
    "image_torch = 800*torch.rand((1,3,800,800))\n"
   ]
  },
  {
   "cell_type": "code",
   "execution_count": 363,
   "metadata": {
    "ExecuteTime": {
     "end_time": "2021-12-08T22:22:12.911124Z",
     "start_time": "2021-12-08T22:22:12.864123Z"
    }
   },
   "outputs": [
    {
     "data": {
      "text/plain": [
       "torch.Size([1, 256, 56, 56])"
      ]
     },
     "execution_count": 363,
     "metadata": {},
     "output_type": "execute_result"
    }
   ],
   "source": [
    "#We choose the place where we extracted the feature map in order to get H_feature * W_feature around 2400 (papers)\n",
    "resnet50_features = nn.Sequential(*(list(resnet50.children())[:-5]))\n",
    "resnet50_features(image_torch).shape"
   ]
  },
  {
   "cell_type": "markdown",
   "metadata": {},
   "source": [
    "https://stackoverflow.com/questions/69480764/what-is-the-difference-between-resnet50-vgg16-etc-and-rcnn-faster-rcnn\n"
   ]
  },
  {
   "cell_type": "code",
   "execution_count": 367,
   "metadata": {
    "ExecuteTime": {
     "end_time": "2021-12-08T22:25:17.343576Z",
     "start_time": "2021-12-08T22:25:17.326400Z"
    },
    "code_folding": []
   },
   "outputs": [],
   "source": [
    "class RPN(nn.Module):\n",
    "    #TODO : remove embedding_dim using wv.shape[1]\n",
    "    #define all the layers used in model\n",
    "    def __init__(self,mid_channel, in_channels,nb_anchors,pre_trained_model):\n",
    "        \n",
    "        #Constructor\n",
    "        super().__init__()        \n",
    "        \n",
    "        #embedding layer\n",
    "        self.pre_trained_model = pre_trained_model\n",
    "        self.conv1 = nn.Conv2d(in_channels, mid_channels, 3, 1, 1)\n",
    "        self.conv1.weight.data.normal_(0, 0.01)\n",
    "        self.conv1.bias.data.zero_()\n",
    "        \n",
    "        self.reg_layer = nn.Conv2d(mid_channels, n_anchor *4, 1, 1, 0)\n",
    "        self.reg_layer.weight.data.normal_(0, 0.01)\n",
    "        self.reg_layer.bias.data.zero_()\n",
    "\n",
    "        self.cls_layer = nn.Conv2d(mid_channels, n_anchor *2, 1, 1, 0)\n",
    "        # classification layer\n",
    "        self.cls_layer.weight.data.normal_(0, 0.01)\n",
    "        self.cls_layer.bias.data.zero_()\n",
    "       \n",
    "\n",
    "    def forward(self,img):\n",
    "        x = self.pre_trained_model(img)\n",
    "        x = self.conv1(x)\n",
    "        pred_anchor = self.reg_layer(x)\n",
    "        pred_anchor = pred_anchor.permute(0, 2, 3, 1).contiguous().view(1, -1, 4)\n",
    "        \n",
    "        pred_cls = self.cls_layer(x)\n",
    "        pred_cls = pred_cls.permute(0, 2, 3, 1).contiguous()\n",
    "        pred_cls = pred_cls.view(1, -1, 2)\n",
    "\n",
    "        return pred_anchor, pred_cls"
   ]
  },
  {
   "cell_type": "code",
   "execution_count": 344,
   "metadata": {
    "ExecuteTime": {
     "end_time": "2021-12-08T21:53:42.931149Z",
     "start_time": "2021-12-08T21:53:42.925149Z"
    }
   },
   "outputs": [],
   "source": [
    "test = torch.rand([1,36,28,28])"
   ]
  },
  {
   "cell_type": "code",
   "execution_count": 359,
   "metadata": {
    "ExecuteTime": {
     "end_time": "2021-12-08T22:19:36.895409Z",
     "start_time": "2021-12-08T22:19:36.887330Z"
    }
   },
   "outputs": [
    {
     "data": {
      "text/plain": [
       "torch.Size([1, 36, 28, 28])"
      ]
     },
     "execution_count": 359,
     "metadata": {},
     "output_type": "execute_result"
    }
   ],
   "source": [
    "test.s"
   ]
  },
  {
   "cell_type": "code",
   "execution_count": 368,
   "metadata": {
    "ExecuteTime": {
     "end_time": "2021-12-08T22:25:37.202426Z",
     "start_time": "2021-12-08T22:25:37.117429Z"
    },
    "scrolled": true
   },
   "outputs": [
    {
     "name": "stdout",
     "output_type": "stream",
     "text": [
      "torch.Size([1, 28224, 4])\n",
      "torch.Size([1, 28224, 2])\n"
     ]
    }
   ],
   "source": [
    "model = RPN(256,256,9,resnet50_features)\n",
    "image_torch = 800*torch.rand((1,3,224,224)) #scale picture ? mean ? \n",
    "res = model(image_torch)\n",
    "\n",
    "print(res[0].shape)\n",
    "print(res[1].shape)"
   ]
  }
 ],
 "metadata": {
  "kernelspec": {
   "display_name": "stat_app",
   "language": "python",
   "name": "stat_app"
  },
  "language_info": {
   "codemirror_mode": {
    "name": "ipython",
    "version": 3
   },
   "file_extension": ".py",
   "mimetype": "text/x-python",
   "name": "python",
   "nbconvert_exporter": "python",
   "pygments_lexer": "ipython3",
   "version": "3.8.5"
  },
  "toc": {
   "base_numbering": 1,
   "nav_menu": {},
   "number_sections": true,
   "sideBar": true,
   "skip_h1_title": false,
   "title_cell": "Table of Contents",
   "title_sidebar": "Contents",
   "toc_cell": true,
   "toc_position": {},
   "toc_section_display": true,
   "toc_window_display": false
  },
  "varInspector": {
   "cols": {
    "lenName": 16,
    "lenType": 16,
    "lenVar": 40
   },
   "kernels_config": {
    "python": {
     "delete_cmd_postfix": "",
     "delete_cmd_prefix": "del ",
     "library": "var_list.py",
     "varRefreshCmd": "print(var_dic_list())"
    },
    "r": {
     "delete_cmd_postfix": ") ",
     "delete_cmd_prefix": "rm(",
     "library": "var_list.r",
     "varRefreshCmd": "cat(var_dic_list()) "
    }
   },
   "types_to_exclude": [
    "module",
    "function",
    "builtin_function_or_method",
    "instance",
    "_Feature"
   ],
   "window_display": false
  }
 },
 "nbformat": 4,
 "nbformat_minor": 4
}
