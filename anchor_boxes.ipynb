{
 "cells": [
  {
   "cell_type": "markdown",
   "metadata": {
    "toc": true
   },
   "source": [
    "<h1>Table of Contents<span class=\"tocSkip\"></span></h1>\n",
    "<div class=\"toc\"><ul class=\"toc-item\"></ul></div>"
   ]
  },
  {
   "cell_type": "markdown",
   "metadata": {},
   "source": [
    "This notebook aims to provide functions that produce anchor boxes as decribed in the paper."
   ]
  },
  {
   "cell_type": "code",
   "execution_count": 1,
   "metadata": {
    "ExecuteTime": {
     "end_time": "2021-12-04T15:55:45.014705Z",
     "start_time": "2021-12-04T15:55:44.852703Z"
    }
   },
   "outputs": [],
   "source": [
    "import numpy as np"
   ]
  },
  {
   "cell_type": "code",
   "execution_count": 2,
   "metadata": {
    "ExecuteTime": {
     "end_time": "2021-12-04T15:55:45.046694Z",
     "start_time": "2021-12-04T15:55:45.019698Z"
    }
   },
   "outputs": [],
   "source": [
    "image_test = np.random.randn(800,800)\n",
    "image_test_feature = np.random.randn(50,50)\n",
    "ratio = [0.5, 1, 2]\n",
    "anchor_scales = [8, 16, 32]\n",
    "gt_box = np.array([[20, 30, 400, 500], [300, 400, 500, 600]])"
   ]
  },
  {
   "cell_type": "code",
   "execution_count": 3,
   "metadata": {
    "ExecuteTime": {
     "end_time": "2021-12-04T15:55:45.062693Z",
     "start_time": "2021-12-04T15:55:45.050707Z"
    }
   },
   "outputs": [],
   "source": [
    "def anchor_box(center, ratio, scale, shape_initial, shape_featured):\n",
    "    sub_width = shape_initial[0]/shape_featured[0]\n",
    "    sub_height = shape_initial[1]/shape_featured[1]\n",
    "    anchor_width = sub_width*scale*np.sqrt(ratio)\n",
    "    anchor_height = sub_height*scale/np.sqrt(ratio)\n",
    "    \n",
    "    ym = center[1] - anchor_height/2\n",
    "    yp = center[1] + anchor_height/2\n",
    "    xm = center[0] - anchor_width/2\n",
    "    xp = center[0] + anchor_width/2\n",
    "    \n",
    "    anchor = np.array((ym,xm,yp,xp))\n",
    "    return(anchor)"
   ]
  },
  {
   "cell_type": "code",
   "execution_count": 4,
   "metadata": {
    "ExecuteTime": {
     "end_time": "2021-12-04T15:55:45.078705Z",
     "start_time": "2021-12-04T15:55:45.065700Z"
    }
   },
   "outputs": [],
   "source": [
    "def list_centers(shape_initial, shape_featured):\n",
    "    ratio_h = shape_initial[1]/shape_featured[1]\n",
    "    ratio_w = shape_initial[0]/shape_featured[0]\n",
    "    #intiail center is the center at the left top corner\n",
    "    all_centers = [np.array((ratio_w/2, ratio_h/2),dtype=float) + np.array((ratio_w*i, ratio_h*j),dtype=float) for i in range(int(shape_featured[0])) for j in range(int(shape_featured[1]))]\n",
    "    return(all_centers)"
   ]
  },
  {
   "cell_type": "code",
   "execution_count": 5,
   "metadata": {
    "ExecuteTime": {
     "end_time": "2021-12-04T15:55:45.094713Z",
     "start_time": "2021-12-04T15:55:45.084712Z"
    }
   },
   "outputs": [],
   "source": [
    "def anchor_boxes(list_ratios, list_scales, shape_initial, shape_featured):\n",
    "    list_center = list_centers(shape_initial, shape_featured)\n",
    "    all_anchors = [anchor_box(center, ratio, scale,shape_initial,shape_featured) for center in list_center for ratio in list_ratios\n",
    "                   for scale in list_scales]\n",
    "    return(all_anchors)"
   ]
  },
  {
   "cell_type": "code",
   "execution_count": 6,
   "metadata": {
    "ExecuteTime": {
     "end_time": "2021-12-04T15:55:45.110698Z",
     "start_time": "2021-12-04T15:55:45.097708Z"
    }
   },
   "outputs": [],
   "source": [
    "def check_anchor_inside(anchor_box, shape_initial):\n",
    "    ym = anchor_box[0]\n",
    "    yp = anchor_box[2]\n",
    "    xm = anchor_box[1]\n",
    "    xp = anchor_box[3]\n",
    "    is_inside = (min(xm,xp)>0) & (max(xm,xp)<shape_initial[0]) & (max(yp,ym) < shape_initial[1]) & (min(ym,yp) > 0) \n",
    "    return(is_inside)"
   ]
  },
  {
   "cell_type": "code",
   "execution_count": 7,
   "metadata": {
    "ExecuteTime": {
     "end_time": "2021-12-04T15:55:45.126697Z",
     "start_time": "2021-12-04T15:55:45.112701Z"
    }
   },
   "outputs": [],
   "source": [
    "def iou(box1,box2):\n",
    "    xm = max(box1[1], box2[1])\n",
    "    xp = min(box1[3], box2[3])\n",
    "    ym = max(box1[0], box2[0])\n",
    "    yp = min(box1[2], box2[2])\n",
    "    \n",
    "    intersection = 0\n",
    "    \n",
    "    if((xm < xp) &(ym < yp)):\n",
    "        intersection = (xp - xm)*(yp-ym)\n",
    "    \n",
    "    union = (box1[3]-box1[1])*(box1[2] - box1[0]) + (box2[3]-box2[1])*(box2[2] - box2[0]) - intersection\n",
    "    return(intersection/union)"
   ]
  },
  {
   "cell_type": "code",
   "execution_count": 8,
   "metadata": {
    "ExecuteTime": {
     "end_time": "2021-12-04T15:55:45.142700Z",
     "start_time": "2021-12-04T15:55:45.129698Z"
    }
   },
   "outputs": [
    {
     "data": {
      "text/plain": [
       "0.14285714285714285"
      ]
     },
     "execution_count": 8,
     "metadata": {},
     "output_type": "execute_result"
    }
   ],
   "source": [
    "iou(np.array([1,1,3,3]),np.array([2,2,4,4]))"
   ]
  },
  {
   "cell_type": "code",
   "execution_count": 9,
   "metadata": {
    "ExecuteTime": {
     "end_time": "2021-12-04T15:55:45.377722Z",
     "start_time": "2021-12-04T15:55:45.145700Z"
    }
   },
   "outputs": [],
   "source": [
    "list_anchors = anchor_boxes(ratio,anchor_scales,(800,800),(50,50))"
   ]
  },
  {
   "cell_type": "code",
   "execution_count": 10,
   "metadata": {
    "ExecuteTime": {
     "end_time": "2021-12-04T15:55:45.393762Z",
     "start_time": "2021-12-04T15:55:45.380719Z"
    }
   },
   "outputs": [],
   "source": [
    "def iou_anchors_vs_gtbox(list_anchors, list_gt_box):\n",
    "    res = np.transpose([[iou(anchor, gt_box) for anchor in list_anchors] for gt_box in list_gt_box])\n",
    "    return(np.array(res))"
   ]
  },
  {
   "cell_type": "code",
   "execution_count": 77,
   "metadata": {
    "ExecuteTime": {
     "end_time": "2021-12-04T17:13:01.005896Z",
     "start_time": "2021-12-04T17:13:00.998890Z"
    }
   },
   "outputs": [],
   "source": [
    "#Return an array with :\n",
    "#for all ground truth box, the anchors which maximize the IOU with it\n",
    "#for all anchor, the max of the IOU\n",
    "\n",
    "#the first column of the array is the index and the last the IOU \n",
    "def best_anchors_from_iou(dt_anchors_vs_gtbox):\n",
    "    #index highest by gtbox (cond a)\n",
    "    dt_anchors_vs_gtbox.argmax(axis = 0)\n",
    "    ind_argmax = np.where(dt_anchors_vs_gtbox == dt_anchors_vs_gtbox.max(axis = 0))[0]\n",
    "    cond_a = dt_anchors_vs_gtbox[ind_argmax,:].max(axis = 1)\n",
    "    \n",
    "    #highest by anchors box (cond b)\n",
    "    index = dt_anchors_vs_gtbox.argmax(axis = 1)\n",
    "    iou_max = dt_anchors_vs_gtbox.max(axis = 1)\n",
    "    cond_b = dt_anchors_vs_gtbox[np.arange(dt_anchors_vs_gtbox.shape[0]),index]\n",
    "    \n",
    "    index_res = np.concatenate((ind_argmax,np.arange(dt_anchors_vs_gtbox.shape[0])))\n",
    "    res = np.concatenate((cond_a, cond_b), axis=0)\n",
    "    res = np.column_stack((index_res,res))\n",
    "    return(res)"
   ]
  },
  {
   "cell_type": "code",
   "execution_count": 84,
   "metadata": {
    "ExecuteTime": {
     "end_time": "2021-12-04T17:35:37.979749Z",
     "start_time": "2021-12-04T17:35:37.970738Z"
    }
   },
   "outputs": [],
   "source": [
    "#label_from_iou returns a np.array containing for each anchor its label. (+1 if foreground, 0 if background and -1 if not used\n",
    "#during the learning phase)\n",
    "#The default thresholds are defined according the original paper about Fatest RCNN.\n",
    "\n",
    "def label_from_iou(dt_anchors_vs_gtbox,pos_threshold = 0.7, neg_threshold = 0.3):\n",
    "    label = np.full(dt_anchors_vs_gtbox.shape[0],-1)\n",
    "    iou_max = dt_anchors_vs_gtbox.max(axis = 1)\n",
    "    #positive labels : 1\n",
    "    label[iou_max > pos_threshold] = 1\n",
    "    #negative labels : 0\n",
    "    label[iou_max < neg_threshold] = 0\n",
    "    #for anchors whose maximize IOU for a given object : +1\n",
    "    dt_anchors_vs_gtbox.argmax(axis = 0)\n",
    "    ind_argmax = np.where(dt_anchors_vs_gtbox == dt_anchors_vs_gtbox.max(axis = 0))[0]\n",
    "    label[ind_argmax] = 1\n",
    "    return(label)"
   ]
  },
  {
   "cell_type": "code",
   "execution_count": 103,
   "metadata": {
    "ExecuteTime": {
     "end_time": "2021-12-04T18:10:12.247998Z",
     "start_time": "2021-12-04T18:10:11.454002Z"
    }
   },
   "outputs": [
    {
     "data": {
      "text/plain": [
       "19735"
      ]
     },
     "execution_count": 103,
     "metadata": {},
     "output_type": "execute_result"
    }
   ],
   "source": [
    "lab = label_from_iou(iou_anchors_vs_gtbox(list_anchors, gt_box))\n",
    "len((np.where((lab == 1) | (lab == 0)))[0])"
   ]
  },
  {
   "cell_type": "code",
   "execution_count": 78,
   "metadata": {
    "ExecuteTime": {
     "end_time": "2021-12-04T17:13:09.302556Z",
     "start_time": "2021-12-04T17:13:08.510359Z"
    }
   },
   "outputs": [
    {
     "data": {
      "text/plain": [
       "array([[6.83600000e+03, 6.81304932e-01],\n",
       "       [6.84500000e+03, 6.81304932e-01],\n",
       "       [6.85400000e+03, 6.81304932e-01],\n",
       "       ...,\n",
       "       [2.24970000e+04, 0.00000000e+00],\n",
       "       [2.24980000e+04, 0.00000000e+00],\n",
       "       [2.24990000e+04, 0.00000000e+00]])"
      ]
     },
     "execution_count": 78,
     "metadata": {},
     "output_type": "execute_result"
    }
   ],
   "source": [
    "best_anchors_from_iou(iou_anchors_vs_gtbox(list_anchors, gt_box))"
   ]
  },
  {
   "cell_type": "code",
   "execution_count": 116,
   "metadata": {
    "ExecuteTime": {
     "end_time": "2021-12-04T18:37:35.454152Z",
     "start_time": "2021-12-04T18:37:35.433145Z"
    }
   },
   "outputs": [],
   "source": [
    "#TODO : heck how to fill when\n",
    "\n",
    "def batch_training_proposal(dt_anchors_vs_gtbox, nsize = 256, pos_ratio = 0.5):\n",
    "    #number of positive units we need to reach in the training sample (we want a balanced sample)\n",
    "    nb_pos_to_drawn = round(nsize*pos_ratio)\n",
    "    lab = label_from_iou(dt_anchors_vs_gtbox)\n",
    "    pos_lab = np.where(lab == 1)[0]\n",
    "    neg_lab = np.where(lab == 0)[0]\n",
    "    pos = len(pos_lab)\n",
    "    neg = len(neg_lab)\n",
    "    \n",
    "    if (pos > nb_pos_to_drawn):\n",
    "        disabled_index_pos = np.random.choice(pos_lab, size=(pos - nb_pos_to_drawn), replace = False)\n",
    "        lab[disabled_index_pos] = -1\n",
    "    \n",
    "    if (neg > nsize - nb_pos_to_drawn):\n",
    "        if(pos < nb_pos_to_drawn):\n",
    "            disabled_index_neg = np.random.choice(neg_lab, size=(neg - 2*nsize + pos), replace = False)\n",
    "        else:\n",
    "            disabled_index_neg = np.random.choice(neg_lab, size=(neg + nb_pos_to_drawn - nsize), replace = False)\n",
    "        \n",
    "        lab[disabled_index_neg] = -1    \n",
    "    \n",
    "    res = np.where((lab == 0) | (lab == 1))[0]\n",
    "    return res"
   ]
  },
  {
   "cell_type": "code",
   "execution_count": 119,
   "metadata": {
    "ExecuteTime": {
     "end_time": "2021-12-04T18:37:53.982546Z",
     "start_time": "2021-12-04T18:37:53.184533Z"
    }
   },
   "outputs": [
    {
     "data": {
      "text/plain": [
       "(512,)"
      ]
     },
     "execution_count": 119,
     "metadata": {},
     "output_type": "execute_result"
    }
   ],
   "source": [
    "(batch_training_proposal(iou_anchors_vs_gtbox(list_anchors, gt_box))).shape"
   ]
  }
 ],
 "metadata": {
  "kernelspec": {
   "display_name": "Python 3",
   "language": "python",
   "name": "python3"
  },
  "language_info": {
   "codemirror_mode": {
    "name": "ipython",
    "version": 3
   },
   "file_extension": ".py",
   "mimetype": "text/x-python",
   "name": "python",
   "nbconvert_exporter": "python",
   "pygments_lexer": "ipython3",
   "version": "3.8.3"
  },
  "toc": {
   "base_numbering": 1,
   "nav_menu": {},
   "number_sections": true,
   "sideBar": true,
   "skip_h1_title": false,
   "title_cell": "Table of Contents",
   "title_sidebar": "Contents",
   "toc_cell": true,
   "toc_position": {},
   "toc_section_display": true,
   "toc_window_display": false
  },
  "varInspector": {
   "cols": {
    "lenName": 16,
    "lenType": 16,
    "lenVar": 40
   },
   "kernels_config": {
    "python": {
     "delete_cmd_postfix": "",
     "delete_cmd_prefix": "del ",
     "library": "var_list.py",
     "varRefreshCmd": "print(var_dic_list())"
    },
    "r": {
     "delete_cmd_postfix": ") ",
     "delete_cmd_prefix": "rm(",
     "library": "var_list.r",
     "varRefreshCmd": "cat(var_dic_list()) "
    }
   },
   "types_to_exclude": [
    "module",
    "function",
    "builtin_function_or_method",
    "instance",
    "_Feature"
   ],
   "window_display": false
  }
 },
 "nbformat": 4,
 "nbformat_minor": 4
}
