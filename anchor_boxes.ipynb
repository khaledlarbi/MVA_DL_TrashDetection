{
  "cells": [
    {
      "cell_type": "markdown",
      "metadata": {
        "id": "view-in-github",
        "colab_type": "text"
      },
      "source": [
        "<a href=\"https://colab.research.google.com/github/khaledlarbi/MVA_DL_TrashDetection/blob/main/anchor_boxes.ipynb\" target=\"_parent\"><img src=\"https://colab.research.google.com/assets/colab-badge.svg\" alt=\"Open In Colab\"/></a>"
      ]
    },
    {
      "cell_type": "markdown",
      "metadata": {
        "toc": true,
        "id": "6XSixqNNb_7Z"
      },
      "source": [
        "<h1>Table of Contents<span class=\"tocSkip\"></span></h1>\n",
        "<div class=\"toc\"><ul class=\"toc-item\"><li><span><a href=\"#Preparation-of-the-proposed-region-to-train-the-Fast-RCNN\" data-toc-modified-id=\"Preparation-of-the-proposed-region-to-train-the-Fast-RCNN-1\"><span class=\"toc-item-num\">1&nbsp;&nbsp;</span>Preparation of the proposed region to train the Fast RCNN</a></span></li><li><span><a href=\"#Region-proposal-network\" data-toc-modified-id=\"Region-proposal-network-2\"><span class=\"toc-item-num\">2&nbsp;&nbsp;</span>Region proposal network</a></span></li><li><span><a href=\"#Training-RPN-network\" data-toc-modified-id=\"Training-RPN-network-3\"><span class=\"toc-item-num\">3&nbsp;&nbsp;</span>Training RPN network</a></span></li><li><span><a href=\"#Coco-dataset\" data-toc-modified-id=\"Coco-dataset-4\"><span class=\"toc-item-num\">4&nbsp;&nbsp;</span>Coco dataset</a></span></li></ul></div>"
      ]
    },
    {
      "cell_type": "markdown",
      "metadata": {
        "id": "-gZieto6b_7d"
      },
      "source": [
        "This notebook aims to provide functions that produce anchor boxes as decribed in the paper."
      ]
    },
    {
      "cell_type": "markdown",
      "metadata": {
        "id": "0YTdXFc3b_7e"
      },
      "source": [
        "A box will be describe either as a numpy array $[y^-, x^-, y^+, x^+]$  or as a numpy array $[c_y, c_x, h,w]$\n",
        "\n",
        "TODO : CHECK +1"
      ]
    },
    {
      "cell_type": "markdown",
      "source": [
        "# Anchors"
      ],
      "metadata": {
        "id": "gEMPqMqMrBsn"
      }
    },
    {
      "cell_type": "code",
      "execution_count": 1,
      "metadata": {
        "ExecuteTime": {
          "end_time": "2021-12-08T23:12:00.279181Z",
          "start_time": "2021-12-08T23:11:58.115463Z"
        },
        "id": "R6wLPDnOb_7e"
      },
      "outputs": [],
      "source": [
        "import numpy as np\n",
        "import torch\n",
        "import torch.nn as nn\n",
        "from torchvision import transforms\n",
        "import matplotlib.pyplot as plt\n",
        "import matplotlib.patches as patches #In order to draw the box ! (je sais pas pourquoi j'écris en anglais)\n",
        "from torchvision import models\n",
        "import torch.utils.data as data\n",
        "from PIL import Image\n",
        "import os\n",
        "import os.path"
      ]
    },
    {
      "cell_type": "code",
      "execution_count": 2,
      "metadata": {
        "ExecuteTime": {
          "end_time": "2021-12-08T23:12:00.294254Z",
          "start_time": "2021-12-08T23:12:00.281183Z"
        },
        "id": "RtROAiS1b_7f"
      },
      "outputs": [],
      "source": [
        "def vertice_to_yxhw(anchor):\n",
        "    res = (np.mean((anchor[0],anchor[2])),np.mean((anchor[1],anchor[3])), anchor[2] - anchor[0] + 1, anchor[3] - anchor[1]+1)\n",
        "    return np.array(res)"
      ]
    },
    {
      "cell_type": "code",
      "execution_count": 3,
      "metadata": {
        "ExecuteTime": {
          "end_time": "2021-12-08T23:12:00.310283Z",
          "start_time": "2021-12-08T23:12:00.296255Z"
        },
        "id": "nzn9r1Dzb_7g"
      },
      "outputs": [],
      "source": [
        "def yxhw_to_vertice(anchor):\n",
        "    res = (anchor[0] - anchor[2]/2, anchor[1] - anchor[3]/2, anchor[0] + anchor[2]/2, anchor[1] + anchor[3]/2)\n",
        "    return np.array(res)"
      ]
    },
    {
      "cell_type": "code",
      "source": [
        "def xywh_to_vertice(anchor):\n",
        "  anchor_perm = (anchor[1] + 0.5*anchor[3] ,anchor[0] + 0.5*anchor[2],anchor[3],anchor[2])\n",
        "  return yxhw_to_vertice(anchor_perm)"
      ],
      "metadata": {
        "id": "4DmF9weOH8Uj"
      },
      "execution_count": 159,
      "outputs": []
    },
    {
      "cell_type": "code",
      "execution_count": 4,
      "metadata": {
        "ExecuteTime": {
          "end_time": "2021-12-08T23:12:00.326279Z",
          "start_time": "2021-12-08T23:12:00.312275Z"
        },
        "id": "4NrJLfwrb_7g"
      },
      "outputs": [],
      "source": [
        "def anchor_box(center, ratio, scale, shape_initial, shape_featured):\n",
        "    sub_width = shape_initial[0]/shape_featured[0]\n",
        "    sub_height = shape_initial[1]/shape_featured[1]\n",
        "    anchor_width = sub_width*scale*np.sqrt(ratio)\n",
        "    anchor_height = sub_height*scale/np.sqrt(ratio)\n",
        "    \n",
        "    ym = center[1] - anchor_height/2\n",
        "    yp = center[1] + anchor_height/2\n",
        "    xm = center[0] - anchor_width/2\n",
        "    xp = center[0] + anchor_width/2\n",
        "    \n",
        "    anchor = np.array((ym,xm,yp,xp))\n",
        "    return(anchor)"
      ]
    },
    {
      "cell_type": "code",
      "execution_count": 5,
      "metadata": {
        "ExecuteTime": {
          "end_time": "2021-12-08T23:12:00.341279Z",
          "start_time": "2021-12-08T23:12:00.328260Z"
        },
        "id": "MEYHa3sPb_7h"
      },
      "outputs": [],
      "source": [
        "def list_centers(shape_initial, shape_featured):\n",
        "    ratio_h = shape_initial[1]/shape_featured[1]\n",
        "    ratio_w = shape_initial[0]/shape_featured[0]\n",
        "    #intiail center is the center at the left top corner\n",
        "    all_centers = [np.array((ratio_w/2, ratio_h/2),dtype=float) + np.array((ratio_w*i, ratio_h*j),dtype=float) for i in range(int(shape_featured[0])) for j in range(int(shape_featured[1]))]\n",
        "    return(all_centers)"
      ]
    },
    {
      "cell_type": "code",
      "execution_count": 6,
      "metadata": {
        "ExecuteTime": {
          "end_time": "2021-12-08T23:12:00.356279Z",
          "start_time": "2021-12-08T23:12:00.343272Z"
        },
        "id": "2klfx8Fjb_7h"
      },
      "outputs": [],
      "source": [
        "def anchor_boxes(list_ratios, list_scales, shape_initial, shape_featured):\n",
        "    list_center = list_centers(shape_initial, shape_featured)\n",
        "    all_anchors = [anchor_box(center, ratio, scale,shape_initial,shape_featured) for center in list_center for ratio in list_ratios\n",
        "                   for scale in list_scales]\n",
        "    return(all_anchors)"
      ]
    },
    {
      "cell_type": "code",
      "execution_count": 7,
      "metadata": {
        "ExecuteTime": {
          "end_time": "2021-12-08T23:12:00.372270Z",
          "start_time": "2021-12-08T23:12:00.358270Z"
        },
        "id": "Y1jD1fLqb_7i"
      },
      "outputs": [],
      "source": [
        "def check_anchor_inside(anchor_box, shape_initial):\n",
        "    ym = anchor_box[0]\n",
        "    yp = anchor_box[2]\n",
        "    xm = anchor_box[1]\n",
        "    xp = anchor_box[3]\n",
        "    is_inside = (min(xm,xp)>0) & (max(xm,xp)<shape_initial[0]) & (max(yp,ym) < shape_initial[1]) & (min(ym,yp) > 0) \n",
        "    return(is_inside)"
      ]
    },
    {
      "cell_type": "code",
      "execution_count": 8,
      "metadata": {
        "ExecuteTime": {
          "end_time": "2021-12-08T23:12:00.387270Z",
          "start_time": "2021-12-08T23:12:00.374270Z"
        },
        "id": "YE4ek9ZYb_7i"
      },
      "outputs": [],
      "source": [
        "def iou(box1,box2):\n",
        "    xm = max(box1[1], box2[1])\n",
        "    xp = min(box1[3], box2[3])\n",
        "    ym = max(box1[0], box2[0])\n",
        "    yp = min(box1[2], box2[2])\n",
        "    \n",
        "    intersection = 0\n",
        "    \n",
        "    if((xm < xp) &(ym < yp)):\n",
        "        intersection = (xp - xm)*(yp-ym)\n",
        "    \n",
        "    union = (box1[3]-box1[1])*(box1[2] - box1[0]) + (box2[3]-box2[1])*(box2[2] - box2[0]) - intersection\n",
        "    return(intersection/union)"
      ]
    },
    {
      "cell_type": "code",
      "execution_count": 9,
      "metadata": {
        "ExecuteTime": {
          "end_time": "2021-12-08T23:12:00.403279Z",
          "start_time": "2021-12-08T23:12:00.391276Z"
        },
        "id": "bIDDndBMb_7i"
      },
      "outputs": [],
      "source": [
        "def iou_anchors_vs_gtbox(list_anchors, list_gt_box):\n",
        "    res = np.transpose([[iou(anchor, gt_box) for anchor in list_anchors] for gt_box in list_gt_box])\n",
        "    return(np.array(res))"
      ]
    },
    {
      "cell_type": "markdown",
      "metadata": {
        "id": "iTlLHh_Vb_7j"
      },
      "source": [
        "**TODO** : changer la forme de cette fonction en utilisant que des *arrays*."
      ]
    },
    {
      "cell_type": "code",
      "execution_count": 10,
      "metadata": {
        "ExecuteTime": {
          "end_time": "2021-12-08T23:12:00.419270Z",
          "start_time": "2021-12-08T23:12:00.406270Z"
        },
        "id": "B8S6FE2db_7j"
      },
      "outputs": [],
      "source": [
        "#Return an array with :\n",
        "#for all ground truth box, the anchors which maximize the IOU with it\n",
        "#for all anchor, the max of the IOU\n",
        "\n",
        "#the first column of the array is the index and the last the IOU \n",
        "def best_anchors_from_iou(dt_anchors_vs_gtbox):\n",
        "    #index highest by gtbox (cond a)\n",
        "    dt_anchors_vs_gtbox.argmax(axis = 0)\n",
        "    ind_argmax = np.where(dt_anchors_vs_gtbox == dt_anchors_vs_gtbox.max(axis = 0))[0]\n",
        "    cond_a = dt_anchors_vs_gtbox[ind_argmax,:].max(axis = 1)\n",
        "    \n",
        "    #highest by anchors box (cond b)\n",
        "    index = dt_anchors_vs_gtbox.argmax(axis = 1)\n",
        "    iou_max = dt_anchors_vs_gtbox.max(axis = 1)\n",
        "    cond_b = dt_anchors_vs_gtbox[np.arange(dt_anchors_vs_gtbox.shape[0]),index]\n",
        "    \n",
        "    index_res = np.concatenate((ind_argmax,np.arange(dt_anchors_vs_gtbox.shape[0])))\n",
        "    res = np.concatenate((cond_a, cond_b), axis=0)\n",
        "    res = np.column_stack((index_res,res))\n",
        "    return(res)"
      ]
    },
    {
      "cell_type": "code",
      "execution_count": 105,
      "metadata": {
        "ExecuteTime": {
          "end_time": "2021-12-08T23:12:00.434260Z",
          "start_time": "2021-12-08T23:12:00.421270Z"
        },
        "id": "9VqTF3Itb_7j"
      },
      "outputs": [],
      "source": [
        "#label_from_iou returns a np.array containing for each anchor its label. (+1 if foreground, 0 if background and -1 if not used\n",
        "#during the learning phase)\n",
        "#The default thresholds are defined according the original paper about Fatest RCNN.\n",
        "\n",
        "def label_from_iou(dt_anchors_vs_gtbox,pos_threshold = 0.7, neg_threshold = 0.3):\n",
        "    label = np.full(dt_anchors_vs_gtbox.shape[0],-1)\n",
        "    iou_max = dt_anchors_vs_gtbox.max(axis = 1)\n",
        "    #positive labels : 1\n",
        "    label[iou_max > pos_threshold] = 1\n",
        "    print(len(iou_max > pos_threshold))\n",
        "    #negative labels : 0\n",
        "    label[iou_max < neg_threshold] = 0\n",
        "    sum((iou_max < neg_threshold))\n",
        "\n",
        "    #for anchors whose maximize IOU for a given object : +1\n",
        "    dt_anchors_vs_gtbox.argmax(axis = 0)\n",
        "    ind_argmax = np.where(dt_anchors_vs_gtbox == dt_anchors_vs_gtbox.max(axis = 0))[0]\n",
        "    label[ind_argmax] = 1\n",
        "    return(label)"
      ]
    },
    {
      "cell_type": "code",
      "execution_count": 12,
      "metadata": {
        "ExecuteTime": {
          "end_time": "2021-12-08T23:12:00.449260Z",
          "start_time": "2021-12-08T23:12:00.436260Z"
        },
        "id": "aV_HYx5Ab_7k"
      },
      "outputs": [],
      "source": [
        "def loc(anchor_box, gt_box):\n",
        "    anchor_box = vertice_to_yxhw(anchor_box)\n",
        "    gt_box = vertice_to_yxhw(gt_box)\n",
        "    \n",
        "    y = (gt_box[0] - anchor_box[0])/anchor_box[2]\n",
        "    x = (gt_box[1] - anchor_box[1])/anchor_box[3]\n",
        "    w = np.log(gt_box[3]/anchor_box[3])\n",
        "    h = np.log(gt_box[2]/anchor_box[2])\n",
        "    \n",
        "    return np.array((y,x,h,w))"
      ]
    },
    {
      "cell_type": "code",
      "execution_count": 13,
      "metadata": {
        "ExecuteTime": {
          "end_time": "2021-12-08T23:12:00.465251Z",
          "start_time": "2021-12-08T23:12:00.451274Z"
        },
        "id": "CI9iedq9b_7k"
      },
      "outputs": [],
      "source": [
        "def deloc(anchor_box, reparam_box):\n",
        "    anchor_box = vertice_to_yxhw(anchor_box)\n",
        "    y = anchor_box[0] + (reparam_box[0] * anchor_box[2])\n",
        "    x = anchor_box[1] + (reparam_box[1] * anchor_box[3])\n",
        "    h = np.exp(reparam_box[2])*anchor_box[2]\n",
        "    w = np.exp(reparam_box[3])*anchor_box[3]\n",
        "    return np.array((y,x,h,w))"
      ]
    },
    {
      "cell_type": "code",
      "execution_count": 205,
      "metadata": {
        "ExecuteTime": {
          "end_time": "2021-12-08T23:12:00.481256Z",
          "start_time": "2021-12-08T23:12:00.467253Z"
        },
        "id": "jeMfYSLTb_7k"
      },
      "outputs": [],
      "source": [
        "def reparam_all_anchors(list_anchors, list_gt_box,pos_threshold = 0.7, neg_threshold = 0.3):\n",
        "    iou = iou_anchors_vs_gtbox(list_anchors, list_gt_box)\n",
        "    index_max_gtbox = iou.argmax(axis = 1)\n",
        "    gt_box_by_anchors = [list_gt_box[i] for i in index_max_gtbox]\n",
        "    #suboptimal\n",
        "    res = [loc(anchor, gt_box) for anchor,gt_box in zip(list_anchors, gt_box_by_anchors)] \n",
        "    #compute labels\n",
        "    labels = label_from_iou(iou, pos_threshold, neg_threshold)\n",
        "    return res,labels"
      ]
    },
    {
      "cell_type": "code",
      "execution_count": 15,
      "metadata": {
        "ExecuteTime": {
          "end_time": "2021-12-08T23:12:00.497279Z",
          "start_time": "2021-12-08T23:12:00.483259Z"
        },
        "id": "FSjeRrgIb_7k"
      },
      "outputs": [],
      "source": [
        "def deparam_all_anchors(list_anchors, list_box_param):\n",
        "    res = [(deloc(anchor, box_param)) for anchor,box_param in zip(list_anchors, list_box_param)]\n",
        "    return res"
      ]
    },
    {
      "cell_type": "code",
      "execution_count": 110,
      "metadata": {
        "ExecuteTime": {
          "end_time": "2021-12-08T23:12:00.513279Z",
          "start_time": "2021-12-08T23:12:00.500252Z"
        },
        "id": "sORoyapOb_7l"
      },
      "outputs": [],
      "source": [
        "#TODO : heck how to fill when\n",
        "\n",
        "def index_training_proposal(dt_anchors_vs_gtbox, nsize = 256, pos_ratio = 0.5,pos_threshold = 0.7, neg_threshold = 0.3):\n",
        "    #number of positive units we need to reach in the training sample (we want a balanced sample)\n",
        "    nb_pos_to_drawn = round(nsize*pos_ratio)\n",
        "    lab = label_from_iou(dt_anchors_vs_gtbox, pos_threshold, neg_threshold)\n",
        "    pos_lab = np.where(lab == 1)[0]\n",
        "    neg_lab = np.where(lab == 0)[0]\n",
        "    pos = len(pos_lab)\n",
        "    neg = len(neg_lab)\n",
        "    \n",
        "    if (pos > nb_pos_to_drawn):\n",
        "        disabled_index_pos = np.random.choice(pos_lab, size=(pos - nb_pos_to_drawn), replace = False)\n",
        "        lab[disabled_index_pos] = -1\n",
        "    \n",
        "    if (neg > nsize - nb_pos_to_drawn):\n",
        "        if(pos < nb_pos_to_drawn):\n",
        "            disabled_index_neg = np.random.choice(neg_lab, size=(neg - nsize + pos), replace = False)\n",
        "        else:\n",
        "            disabled_index_neg = np.random.choice(neg_lab, size=(neg + nb_pos_to_drawn - nsize), replace = False)\n",
        "        \n",
        "        lab[disabled_index_neg] = -1    \n",
        "    \n",
        "    res = np.where((lab == 0) | (lab == 1))[0]\n",
        "    print(dt_anchors_vs_gtbox.max(axis = 1))\n",
        "    return res"
      ]
    },
    {
      "cell_type": "code",
      "execution_count": 90,
      "metadata": {
        "ExecuteTime": {
          "end_time": "2021-12-08T23:12:00.529260Z",
          "start_time": "2021-12-08T23:12:00.515270Z"
        },
        "id": "3VXA4Re5b_7l"
      },
      "outputs": [],
      "source": [
        "#TODO : heck how to fill when\n",
        "\n",
        "def batch_training_proposal_RPN(image, feature_shape, ratios, scales,gt_box,nsize = 256, pos_ratio = 0.5, pos_threshold = 0.7, neg_threshold = 0.3):\n",
        "    #define all anchors using the feature map and the initial picture shapes.\n",
        "    anchors_boxes = anchor_boxes(ratios, scales, tuple(image.shape[2:]), tuple(feature_shape[2:]))\n",
        "    #check if each box is inside the initial image\n",
        "    anchors_boxes = [box for box in anchors_boxes if check_anchor_inside(box, image_torch.shape[2:])]\n",
        "    #IOU anchors vs gt box\n",
        "    iou_anc_gt_box = iou_anchors_vs_gtbox(anchors_boxes, gt_box)\n",
        "    #Index of the units we keep\n",
        "    ind_for_sample = index_training_proposal(iou_anc_gt_box,nsize, pos_ratio)\n",
        "    anchors_boxes_reparam,lab_anchors = reparam_all_anchors(anchors_boxes,gt_box,pos_threshold, neg_threshold)\n",
        "    return ({\"image\" : image, \"boxes\" : torch.from_numpy(np.array(anchors_boxes_reparam)[ind_for_sample,:]),\n",
        "             \"labels\" : torch.from_numpy(lab_anchors[ind_for_sample])})"
      ]
    },
    {
      "cell_type": "code",
      "execution_count": 18,
      "metadata": {
        "ExecuteTime": {
          "end_time": "2021-12-08T23:12:00.559249Z",
          "start_time": "2021-12-08T23:12:00.531283Z"
        },
        "id": "rg80p3vKb_7l"
      },
      "outputs": [],
      "source": [
        "image_torch = 800*torch.rand((1,3,800,800))\n",
        "feature_torch = torch.rand([1,512,50,50])\n",
        "\n",
        "ratio = [0.5, 1, 2]\n",
        "anchor_scales = [8, 16, 32]\n",
        "\n",
        "gt_box = [np.array([20, 30, 400, 500]), np.array([300, 400, 500, 600])]\n",
        "labels_gt_box = np.array((\"chien\",\"chat\"))"
      ]
    },
    {
      "cell_type": "code",
      "execution_count": 19,
      "metadata": {
        "ExecuteTime": {
          "end_time": "2021-12-08T23:12:01.735330Z",
          "start_time": "2021-12-08T23:12:00.561252Z"
        },
        "id": "vMpuxd_5b_7l"
      },
      "outputs": [],
      "source": [
        "batch_rpn = batch_training_proposal_RPN(image_torch, feature_torch, ratio, anchor_scales, gt_box,256,0.5,0.7,0.3)"
      ]
    },
    {
      "cell_type": "markdown",
      "metadata": {
        "id": "QkGNzP5pb_7m"
      },
      "source": [
        "# Preparation of the proposed region to train the Fast RCNN"
      ]
    },
    {
      "cell_type": "code",
      "execution_count": 20,
      "metadata": {
        "ExecuteTime": {
          "end_time": "2021-12-08T23:12:01.750681Z",
          "start_time": "2021-12-08T23:12:01.737311Z"
        },
        "id": "EJeoQrA2b_7m"
      },
      "outputs": [],
      "source": [
        "def clip_predicted_boxes(list_box, th_min, th_max):\n",
        "    list_box = np.array(list_box)\n",
        "    return list(np.clip(list_box,th_min,th_max))"
      ]
    },
    {
      "cell_type": "code",
      "execution_count": 21,
      "metadata": {
        "ExecuteTime": {
          "end_time": "2021-12-08T23:12:01.766679Z",
          "start_time": "2021-12-08T23:12:01.752679Z"
        },
        "id": "sX5nhvlVb_7m"
      },
      "outputs": [],
      "source": [
        "#remove all boxes with at least the width or the height less that 16\n",
        "def boxes_hw_min(list_box, list_score, min_size = 16):\n",
        "    boxes = np.array(list_box)\n",
        "    height = boxes[:, 2] - boxes[:, 0]\n",
        "    width = boxes[:, 3] - boxes[:, 1]\n",
        "    box_kept = np.where((height > min_size) & (width > min_size))[0]\n",
        "    list_box_kept = [list_box[j] for j in box_kept]\n",
        "    list_score = [list_score[j] for j in box_kept]\n",
        "    return list_box_kept, list_score"
      ]
    },
    {
      "cell_type": "code",
      "execution_count": 22,
      "metadata": {
        "ExecuteTime": {
          "end_time": "2021-12-08T23:12:01.782680Z",
          "start_time": "2021-12-08T23:12:01.768698Z"
        },
        "id": "l4n3c2yab_7m"
      },
      "outputs": [],
      "source": [
        "def nms(list_box, list_score, top_pre, top_post, thresold):\n",
        "    list_score = np.array(list_score)\n",
        "    order = list_score.argsort()[::-1]\n",
        "    order = order[:top_pre]\n",
        "    keep = []\n",
        "    list_box = np.array(list_box)\n",
        "    \n",
        "    ym = list_box[:,0]\n",
        "    xm = list_box[:,1]\n",
        "    yp = list_box[:,2]\n",
        "    xp = list_box[:,3]\n",
        "    areas = (xp - xm + 1) * (yp - ym + 1)\n",
        "\n",
        "    while len(order)>0:\n",
        "        i = order[0]\n",
        "        yym = np.maximum(ym[i], ym[order[1:]])\n",
        "        xxm = np.maximum(xm[i], xm[order[1:]])\n",
        "        yyp = np.minimum(yp[i], yp[order[1:]])\n",
        "        xxp = np.minimum(xp[i], xp[order[1:]])\n",
        "        \n",
        "        width = np.maximum(0.0, xxp - xxm + 1)\n",
        "        height = np.maximum(0.0, yyp - yym + 1)\n",
        "        intersection = width*height\n",
        "        ovr = intersection/(areas[i] + areas[order[1:]] - intersection)\n",
        "        \n",
        "        ind_to_keep = np.where(ovr <= thresold)[0]\n",
        "        order = order[ind_to_keep + 1]\n",
        "        keep.append(i)\n",
        "    \n",
        "    keep = keep[:top_post]\n",
        "    return(list_box[keep,:])"
      ]
    },
    {
      "cell_type": "markdown",
      "metadata": {
        "id": "cp5YhD2Qb_7m"
      },
      "source": [
        "# Region proposal network"
      ]
    },
    {
      "cell_type": "code",
      "execution_count": 23,
      "metadata": {
        "ExecuteTime": {
          "end_time": "2021-12-08T23:12:44.975470Z",
          "start_time": "2021-12-08T23:12:44.966089Z"
        },
        "id": "9zJP45j1b_7m"
      },
      "outputs": [],
      "source": [
        "#boxes as tensor [N, 5]\n",
        "def roi_pooling(boxes, feature_map,scale,adaptative_max_pool):\n",
        "    boxes_coord = boxes[:,1:].mul(scale).long() #scale + round\n",
        "    res = [feature_map.narrow(0, boxes[i,0].int(),1)[..., boxes_coord[i,1]:(boxes_coord[i,3]+1), boxes_coord[i,0]:(boxes_coord[i,2]+1)] for i in range(boxes_coord.shape[0])]\n",
        "    res = [adaptative_max_pool(element) for element in res]\n",
        "    res = torch.cat(res, axis = 0)\n",
        "    return(res)"
      ]
    },
    {
      "cell_type": "code",
      "execution_count": 24,
      "metadata": {
        "ExecuteTime": {
          "end_time": "2021-12-08T23:12:53.742770Z",
          "start_time": "2021-12-08T23:12:53.724769Z"
        },
        "id": "kwKmwLDsb_7m"
      },
      "outputs": [],
      "source": [
        "#0 in labels_gt_box must be the background\n",
        "def batch_training_proposal_FastRCNN(feature_map,list_box,list_gt_box,labels_gt_box, nsize = 128, pos_ratio = 0.25, pos_iou_threshold = 0.5,\n",
        "                                    neg_iou_threshold_p = 0.5, neg_iou_threshold_n = 0.0, adaptative_max_pool = torch.nn.AdaptiveMaxPool2d((7,7),return_indices=False),scale = 1):\n",
        "    #compute iou between each pair\n",
        "    dt_anchors_vs_gtbox = iou_anchors_vs_gtbox(list_box,list_gt_box)\n",
        "    \n",
        "    #number of positive units we need to reach in the training sample (we want a balanced sample)\n",
        "    nb_pos_to_drawn = round(nsize*pos_ratio)\n",
        "    iou = iou_anchors_vs_gtbox(roi_pred, gt_box)\n",
        "    #compute the maximum for each anchor\n",
        "    gt_roi_label = np.argmax(iou, axis = 1)\n",
        "    gt_roi_max = np.max(iou, axis = 1)\n",
        "    labels = labels_gt_box[gt_roi_label]\n",
        "    \n",
        "    #assign the label if greater that pos_iou_threshold\n",
        "    #assign background if between the two negative thresholds\n",
        "    gt_pos = np.where((gt_roi_max > pos_iou_threshold))[0]\n",
        "    gt_neg = np.where((gt_roi_max < neg_iou_threshold_p) & (gt_roi_max > neg_iou_threshold_n))[0] #background -- 0\n",
        "\n",
        "    #Nb of positives and negatives boxes get using the thresholds\n",
        "    pos = len(gt_pos)\n",
        "    neg = len(gt_neg)\n",
        "    \n",
        "    #Subsampling from it\n",
        "    if (pos > nb_pos_to_drawn):\n",
        "        disabled_index_pos = np.random.choice(range(len(gt_pos)), size=(pos - nb_pos_to_drawn), replace = False)\n",
        "        gt_pos = np.delete(gt_pos, disabled_index_pos)\n",
        "    \n",
        "    if (neg > nsize - nb_pos_to_drawn):\n",
        "        if(pos < nb_pos_to_drawn):\n",
        "            disabled_index_neg = np.random.choice(range(len(gt_neg)), size=(neg - nsize + pos), replace = False)\n",
        "            gt_neg = np.delete(gt_neg, disabled_index_neg)\n",
        "        else:\n",
        "            disabled_index_neg = np.random.choice(range(len(gt_neg)), size=(neg + nb_pos_to_drawn - nsize), replace = False)\n",
        "            gt_neg = np.delete(gt_neg, disabled_index_neg)\n",
        "        \n",
        "    \n",
        "    #if negative : assign background labels with it's \"0\"\n",
        "    labels[gt_neg] = \"0\"\n",
        "    final_index = np.append(gt_pos,gt_neg)\n",
        "    \n",
        "    #Non reparams\n",
        "    non_reparam = np.array(list_box)[final_index,:]\n",
        "    #Need to transform from yxhw to xywh\n",
        "    non_reparam = non_reparam[:,(1,0,3,2)]\n",
        "    non_reparam = np.hstack((np.zeros((non_reparam.shape[0],1)), non_reparam))\n",
        "    non_reparam = torch.from_numpy(non_reparam)\n",
        "    data_for_training =roi_pooling(non_reparam, feature_map,scale, adaptive_max_pool)\n",
        "    #Reparams\n",
        "    reparam = [loc(box,gt_box) for box,gt_box in zip(non_reparam, list(np.array(list_gt_box)[gt_roi_label,:]))]\n",
        "    \n",
        "    return  data_for_training, reparam,labels[final_index]"
      ]
    },
    {
      "cell_type": "code",
      "execution_count": 25,
      "metadata": {
        "ExecuteTime": {
          "end_time": "2021-12-08T23:13:26.269414Z",
          "start_time": "2021-12-08T23:13:26.260394Z"
        },
        "id": "5hiMhRkjb_7n"
      },
      "outputs": [],
      "source": [
        "#data_x, box_y, label_y = batch_training_proposal_FastRCNN(test,roi_pred,gt_box,labels_gt_box, nsize = 128, pos_ratio = 0.25, pos_iou_threshold = 0.5,\n",
        "#                                    neg_iou_threshold_p = 0.5, neg_iou_threshold_n = 0.0,adaptative_max_pool = torch.nn.AdaptiveMaxPool2d((7,7),return_indices=False),\n",
        "#                                 scale = 1/16.)"
      ]
    },
    {
      "cell_type": "markdown",
      "metadata": {
        "id": "ah1baurMb_7n"
      },
      "source": [
        "# Training RPN network"
      ]
    },
    {
      "cell_type": "code",
      "execution_count": 26,
      "metadata": {
        "ExecuteTime": {
          "end_time": "2021-12-08T23:13:37.687322Z",
          "start_time": "2021-12-08T23:13:37.348201Z"
        },
        "id": "6hNzYE92b_7o",
        "colab": {
          "base_uri": "https://localhost:8080/",
          "height": 66,
          "referenced_widgets": [
            "dcba7a54413f4d08b0139a10196a554a",
            "8ecd048412434c259e5a71e7e3073ff2",
            "04fb0dea1b3f4b0886edc6c71bfae71d",
            "6e7f8e6b5c2a4c65b7adacb223f68368",
            "ab54749f31d94ef09e7f5c85246534b5",
            "afd5c82082344e129d5e0da1f953493f",
            "3301c869dd6d43cdbfc0b93f8ada77f8",
            "e7654a2f66e1406dbc935dfed7b213c5",
            "e725291002cb4a838de5f692969ba40f",
            "7ba59efe349846bb881efb267fa68ef5",
            "0ebdd2e9d38f4728a68dd36b56df0cb5"
          ]
        },
        "outputId": "cf7a2da8-42e2-419f-ce35-f09fb8caf766"
      },
      "outputs": [
        {
          "output_type": "stream",
          "name": "stderr",
          "text": [
            "Downloading: \"https://download.pytorch.org/models/resnet50-0676ba61.pth\" to /root/.cache/torch/hub/checkpoints/resnet50-0676ba61.pth\n"
          ]
        },
        {
          "output_type": "display_data",
          "data": {
            "application/vnd.jupyter.widget-view+json": {
              "model_id": "dcba7a54413f4d08b0139a10196a554a",
              "version_minor": 0,
              "version_major": 2
            },
            "text/plain": [
              "  0%|          | 0.00/97.8M [00:00<?, ?B/s]"
            ]
          },
          "metadata": {}
        }
      ],
      "source": [
        "from torchvision import models\n",
        "\n",
        "resnet50 = models.resnet50(pretrained=True)\n",
        "image_torch = 800*torch.rand((1,3,800,800))\n",
        "#We choose the place where we extracted the feature map in order to get H_feature * W_feature around 2400 (papers)\n",
        "resnet50_features = nn.Sequential(*(list(resnet50.children())[:-5]))\n",
        "resnet50_features(image_torch).shape"
      ]
    },
    {
      "cell_type": "markdown",
      "metadata": {
        "id": "Pm6g59e7b_7p"
      },
      "source": [
        "https://stackoverflow.com/questions/69480764/what-is-the-difference-between-resnet50-vgg16-etc-and-rcnn-faster-rcnn\n"
      ]
    },
    {
      "cell_type": "code",
      "execution_count": 30,
      "metadata": {
        "ExecuteTime": {
          "end_time": "2021-12-08T23:13:41.640996Z",
          "start_time": "2021-12-08T23:13:41.621664Z"
        },
        "code_folding": [],
        "id": "EYl81Phib_7p"
      },
      "outputs": [],
      "source": [
        "class RPN(nn.Module):\n",
        "    #TODO : remove embedding_dim using wv.shape[1]\n",
        "    #define all the layers used in model\n",
        "    def __init__(self,mid_channels, in_channels,nb_anchors,pre_trained_model):\n",
        "        \n",
        "        #Constructor\n",
        "        super().__init__()        \n",
        "        \n",
        "        #embedding layer\n",
        "        self.pre_trained_model = pre_trained_model\n",
        "        self.conv1 = nn.Conv2d(in_channels, mid_channels, 3, 1, 1)\n",
        "        self.conv1.weight.data.normal_(0, 0.01)\n",
        "        self.conv1.bias.data.zero_()\n",
        "        \n",
        "        self.reg_layer = nn.Conv2d(mid_channels, nb_anchors *4, 1, 1, 0)\n",
        "        self.reg_layer.weight.data.normal_(0, 0.01)\n",
        "        self.reg_layer.bias.data.zero_()\n",
        "\n",
        "        self.cls_layer = nn.Conv2d(mid_channels, nb_anchors *2, 1, 1, 0)\n",
        "        # classification layer\n",
        "        self.cls_layer.weight.data.normal_(0, 0.01)\n",
        "        self.cls_layer.bias.data.zero_()\n",
        "       \n",
        "\n",
        "    def forward(self,img):\n",
        "        x = self.pre_trained_model(img)\n",
        "        x = self.conv1(x)\n",
        "        pred_anchor = self.reg_layer(x)\n",
        "        pred_anchor = pred_anchor.permute(0, 2, 3, 1).contiguous().view(1, -1, 4)\n",
        "        \n",
        "        pred_cls = self.cls_layer(x)\n",
        "        pred_cls = pred_cls.permute(0, 2, 3, 1).contiguous()\n",
        "        pred_cls = pred_cls.view(1, -1, 2)\n",
        "\n",
        "        return pred_anchor, pred_cls"
      ]
    },
    {
      "cell_type": "code",
      "execution_count": 31,
      "metadata": {
        "ExecuteTime": {
          "end_time": "2021-12-08T23:13:52.294384Z",
          "start_time": "2021-12-08T23:13:52.196399Z"
        },
        "scrolled": true,
        "id": "lzsPxisgb_7p",
        "outputId": "9c9b7472-f297-4dec-db92-f7113ba42510",
        "colab": {
          "base_uri": "https://localhost:8080/"
        }
      },
      "outputs": [
        {
          "output_type": "stream",
          "name": "stdout",
          "text": [
            "torch.Size([1, 28224, 4])\n",
            "torch.Size([1, 28224, 2])\n"
          ]
        }
      ],
      "source": [
        "model = RPN(256,256,9,resnet50_features)\n",
        "image_torch = 800*torch.rand((1,3,224,224)) #scale picture ? mean ? \n",
        "res = model(image_torch)\n",
        "\n",
        "print(res[0].shape)\n",
        "print(res[1].shape)"
      ]
    },
    {
      "cell_type": "markdown",
      "metadata": {
        "id": "P74VGtFVb_7p"
      },
      "source": [
        "# Coco dataset"
      ]
    },
    {
      "cell_type": "markdown",
      "metadata": {
        "id": "oEAZuBOiX_CF"
      },
      "source": [
        "### Load train dataset \n",
        "\n",
        "J'ai réussi à utiliser l'API Coco via `torchvision.datasets.CocoDetection` (https://pytorch.org/vision/stable/datasets.html)\n"
      ]
    },
    {
      "cell_type": "code",
      "metadata": {
        "id": "kc-SDR8e-P0z"
      },
      "source": [
        "#Permet d'utiliser la co des serveurs Google (rip la mienne) et assure une meilleure reproductibilité\n",
        "!wget https://conservancy.umn.edu/bitstream/handle/11299/214865/dataset.zip?sequence=12&isAllowed=y\n",
        "!unzip /content/dataset.zip?sequence=12"
      ],
      "execution_count": null,
      "outputs": []
    },
    {
      "cell_type": "code",
      "metadata": {
        "id": "XuMoQmEAVwfs"
      },
      "source": [
        "from torchvision import datasets\n",
        "from torch.utils.data import DataLoader"
      ],
      "execution_count": 33,
      "outputs": []
    },
    {
      "cell_type": "code",
      "metadata": {
        "id": "L6-SecLQN6hP"
      },
      "source": [
        "# The directory containing the source images\n",
        "data_path = \"dataset/instance_version/train\"\n",
        "\n",
        "# The path to the COCO labels JSON file\n",
        "labels_path = \"dataset/instance_version/instances_train_trashcan.json\""
      ],
      "execution_count": 34,
      "outputs": []
    },
    {
      "cell_type": "markdown",
      "source": [
        "#### Version 4 - resize des images, en ne gardant que les bbox et category_id des targets normalisées, dans un array de dictionnaires (targets de taille variables)"
      ],
      "metadata": {
        "id": "23FFr0UOSPpG"
      }
    },
    {
      "cell_type": "code",
      "source": [
        "#Attention \"bbox\": [x,y,width,height]\n",
        "class CocoDetection_diy_bis(data.Dataset) :\n",
        "    \"\"\"`MS Coco Detection <http://mscoco.org/dataset/#detections-challenge2016>`_ Dataset.\n",
        "\n",
        "    Args:\n",
        "        root (string): Root directory where images are downloaded to.\n",
        "        annFile (string): Path to json annotation file.\n",
        "        resize : (int,int) size of the images wanted \n",
        "    \"\"\"\n",
        "\n",
        "    def __init__(self, root, annFile, size):\n",
        "        from pycocotools.coco import COCO\n",
        "        self.root = root\n",
        "        self.coco = COCO(annFile)\n",
        "        self.ids = list(self.coco.imgs.keys())\n",
        "        self.size = size\n",
        "        self.transform = transforms.Compose([transforms.Resize(size), transforms.ToTensor()])\n",
        "\n",
        "    def __getitem__(self, index):\n",
        "        \"\"\"\n",
        "        Args:\n",
        "            index (int): Index\n",
        "\n",
        "        Returns:\n",
        "            tuple: Tuple (image, target). target is the object returned by ``coco.loadAnns``.\n",
        "        \"\"\"\n",
        "        coco = self.coco\n",
        "        img_id = self.ids[index]\n",
        "        ann_ids = coco.getAnnIds(imgIds=img_id)\n",
        "        target = coco.loadAnns(ann_ids)\n",
        "\n",
        "        path = coco.loadImgs(img_id)[0]['file_name']\n",
        "\n",
        "        # Resize des images :\n",
        "        img = Image.open(os.path.join(self.root, path)).convert('RGB')\n",
        "        original_size = img.size\n",
        "        img = self.transform(img)\n",
        "\n",
        "        # Targets dict :\n",
        "        targets = {'labels':[],'boxes':[]}\n",
        "\n",
        "        for elem in target :  \n",
        "          box = elem['bbox']\n",
        "          box[0] *= self.size[0] / original_size[0]\n",
        "          box[1] *= self.size[1] / original_size[1]\n",
        "          box[2] *= self.size[0] /original_size[0]\n",
        "          box[3] *= self.size[1] /  original_size[1]\n",
        "          targets['boxes'].append(box)\n",
        "          targets['labels'].append(elem['category_id'])\n",
        "\n",
        "        return img, targets\n",
        "        \n",
        "\n",
        "\n",
        "    def __len__(self):\n",
        "        return len(self.ids)\n",
        "\n",
        "    def __repr__(self):\n",
        "        fmt_str = 'Dataset ' + self.__class__.__name__ + '\\n'\n",
        "        fmt_str += '    Number of datapoints: {}\\n'.format(self.__len__())\n",
        "        fmt_str += '    Root Location: {}\\n'.format(self.root)\n",
        "        tmp = '    Transforms (if any): '\n",
        "        fmt_str += '{0}{1}\\n'.format(tmp, self.transform.__repr__().replace('\\n', '\\n' + ' ' * len(tmp)))\n",
        "        tmp = '    Target Transforms (if any): '\n",
        "        fmt_str += '{0}{1}'.format(tmp, self.target_transform.__repr__().replace('\\n', '\\n' + ' ' * len(tmp)))\n",
        "        return fmt_str"
      ],
      "metadata": {
        "id": "oRookaleStv6"
      },
      "execution_count": 50,
      "outputs": []
    },
    {
      "cell_type": "code",
      "source": [
        "def collate_fn_diy (batch) : \n",
        "    \"\"\"\n",
        "    Parameters : \n",
        "    -----------\n",
        "    batch : list of tuples (img,targets)\n",
        "\n",
        "    Return : \n",
        "    -------\n",
        "    images : tensor of dim batch_size x 3 x 224 x 224\n",
        "    targets : list of dict containing : \n",
        "        - \"labels\": Tensor of dim [num_target_boxes] (where num_target_boxes is the number of ground-truth objects in the target) containing the class labels\n",
        "        - \"boxes\": Tensor of dim [num_target_boxes, 4] containing the target box coordinates\n",
        "    \"\"\"\n",
        "    imgs, trgts = list(zip(*batch)) # imgs et trgts sont désormais des batch_size-tuples \n",
        "\n",
        "    imgs = [img.unsqueeze(0) for img in list(imgs)] #ajout d'une dimension supplémentaire à tous les tenseurs\n",
        "    images = torch.cat(imgs) # concaténation en un seul tenseur\n",
        "\n",
        "    targets = []\n",
        "    for t in list(trgts) : \n",
        "      targets.append({'labels' : torch.from_numpy(np.array(t[\"labels\"])), \n",
        "                      'boxes' : torch.from_numpy(np.array(t[\"boxes\"]))})\n",
        "    \n",
        "    return images, targets"
      ],
      "metadata": {
        "id": "_4TouQrSSfmZ"
      },
      "execution_count": 126,
      "outputs": []
    },
    {
      "cell_type": "code",
      "source": [
        "instances_train_4 = CocoDetection_diy_bis(root = data_path, annFile = labels_path, size=(224,224))"
      ],
      "metadata": {
        "colab": {
          "base_uri": "https://localhost:8080/"
        },
        "id": "YF6RDy_eSfd9",
        "outputId": "2e9cae56-dfe5-4f0a-da28-96f40c1a8bf7"
      },
      "execution_count": 127,
      "outputs": [
        {
          "output_type": "stream",
          "name": "stdout",
          "text": [
            "loading annotations into memory...\n",
            "Done (t=0.31s)\n",
            "creating index...\n",
            "index created!\n"
          ]
        }
      ]
    },
    {
      "cell_type": "code",
      "source": [
        "# Format DataLoader :\n",
        "instances_train_dataloader_4 = DataLoader(instances_train_4, batch_size=1, shuffle=True, collate_fn = collate_fn_diy)"
      ],
      "metadata": {
        "id": "T1kYVFomUUvm"
      },
      "execution_count": 128,
      "outputs": []
    },
    {
      "cell_type": "code",
      "source": [
        "test_img_dataload = next(iter(instances_train_dataloader_4))"
      ],
      "metadata": {
        "id": "-ZcSybbCUhiV"
      },
      "execution_count": 129,
      "outputs": []
    },
    {
      "cell_type": "code",
      "source": [
        "print(test_img_dataload)"
      ],
      "metadata": {
        "colab": {
          "base_uri": "https://localhost:8080/"
        },
        "id": "ef1k50BQGaQN",
        "outputId": "13794cb1-eada-4b6d-8121-62f3fc562e4e"
      },
      "execution_count": 130,
      "outputs": [
        {
          "output_type": "stream",
          "name": "stdout",
          "text": [
            "(tensor([[[[0.1647, 0.1647, 0.1725,  ..., 0.0745, 0.0745, 0.0745],\n",
            "          [0.1765, 0.1765, 0.1804,  ..., 0.0784, 0.0784, 0.0784],\n",
            "          [0.1882, 0.1843, 0.1725,  ..., 0.0784, 0.0784, 0.0784],\n",
            "          ...,\n",
            "          [0.1922, 0.1765, 0.1922,  ..., 0.8000, 0.6980, 0.7137],\n",
            "          [0.1725, 0.1882, 0.2118,  ..., 0.7647, 0.6353, 0.7137],\n",
            "          [0.1490, 0.1961, 0.2314,  ..., 0.6941, 0.6588, 0.7098]],\n",
            "\n",
            "         [[0.1765, 0.1765, 0.1843,  ..., 0.0863, 0.0863, 0.0863],\n",
            "          [0.1882, 0.1882, 0.1922,  ..., 0.0902, 0.0902, 0.0902],\n",
            "          [0.2000, 0.1961, 0.1843,  ..., 0.0902, 0.0902, 0.0902],\n",
            "          ...,\n",
            "          [0.2471, 0.2196, 0.2196,  ..., 0.8196, 0.7176, 0.7333],\n",
            "          [0.2039, 0.2118, 0.2196,  ..., 0.7608, 0.6314, 0.7137],\n",
            "          [0.1569, 0.1961, 0.2157,  ..., 0.6627, 0.6235, 0.6745]],\n",
            "\n",
            "         [[0.1961, 0.1961, 0.2039,  ..., 0.1059, 0.1059, 0.1059],\n",
            "          [0.2078, 0.2078, 0.2118,  ..., 0.1098, 0.1098, 0.1098],\n",
            "          [0.2196, 0.2157, 0.2039,  ..., 0.1098, 0.1098, 0.1098],\n",
            "          ...,\n",
            "          [0.2353, 0.2196, 0.2275,  ..., 0.7608, 0.6667, 0.6745],\n",
            "          [0.2039, 0.2118, 0.2314,  ..., 0.7098, 0.5843, 0.6627],\n",
            "          [0.1647, 0.2078, 0.2353,  ..., 0.6235, 0.5882, 0.6431]]]]), [{'labels': tensor([1, 2]), 'boxes': tensor([[9.1503e-04, 1.3440e+02, 4.1065e+01, 9.0220e+01],\n",
            "        [1.5633e+02, 7.7782e+01, 2.5664e+01, 2.6126e+01]], dtype=torch.float64)}])\n"
          ]
        }
      ]
    },
    {
      "cell_type": "code",
      "source": [
        "resnet50_features = nn.Sequential(*(list(resnet50.children())[:-5]))\n",
        "feature_shape = resnet50_features(image_torch).shape"
      ],
      "metadata": {
        "id": "JrGlsRp6tMVR"
      },
      "execution_count": 64,
      "outputs": []
    },
    {
      "cell_type": "code",
      "execution_count": 111,
      "metadata": {
        "ExecuteTime": {
          "end_time": "2021-12-08T23:12:01.735330Z",
          "start_time": "2021-12-08T23:12:00.561252Z"
        },
        "colab": {
          "base_uri": "https://localhost:8080/"
        },
        "id": "n-72rnjDyxA5",
        "outputId": "f5a2e7dd-9444-409d-a730-35aee0784abc"
      },
      "outputs": [
        {
          "output_type": "stream",
          "name": "stdout",
          "text": [
            "12552\n",
            "[0.         0.         0.         ... 0.00573348 0.00573348 0.00573348]\n",
            "12552\n"
          ]
        }
      ],
      "source": [
        "batch_rpn = batch_training_proposal_RPN(image_torch, feature_shape, ratio, anchor_scales, gt_box,256,0.5,1,0.3)"
      ]
    },
    {
      "cell_type": "code",
      "source": [
        "image_torch, dict_label = test_img_dataload"
      ],
      "metadata": {
        "id": "HDok07qo1cRN"
      },
      "execution_count": 131,
      "outputs": []
    },
    {
      "cell_type": "code",
      "source": [
        "gt_box = list(np.array(dict_label[0]['boxes']))\n",
        "gt_box"
      ],
      "metadata": {
        "colab": {
          "base_uri": "https://localhost:8080/"
        },
        "id": "fxcdbJqXF-55",
        "outputId": "d2513f3f-43af-41c4-c3ea-dfc6e66a698a"
      },
      "execution_count": 142,
      "outputs": [
        {
          "output_type": "execute_result",
          "data": {
            "text/plain": [
              "[array([9.15032680e-04, 1.34401220e+02, 4.10648366e+01, 9.02197821e+01]),\n",
              " array([156.33481013,  77.78235294,  25.66398712,  26.12638328])]"
            ]
          },
          "metadata": {},
          "execution_count": 142
        }
      ]
    },
    {
      "cell_type": "code",
      "source": [
        "gt_box_good_format = [xywh_to_vertice(element) for element in gt_box]"
      ],
      "metadata": {
        "id": "kALC8HW2IZou"
      },
      "execution_count": 160,
      "outputs": []
    },
    {
      "cell_type": "code",
      "source": [
        "image_torch"
      ],
      "metadata": {
        "colab": {
          "base_uri": "https://localhost:8080/"
        },
        "id": "fk6YtVZfGjfC",
        "outputId": "8799fe92-d429-4ee2-8166-3589f63417e7"
      },
      "execution_count": 134,
      "outputs": [
        {
          "output_type": "execute_result",
          "data": {
            "text/plain": [
              "tensor([[[[0.1647, 0.1647, 0.1725,  ..., 0.0745, 0.0745, 0.0745],\n",
              "          [0.1765, 0.1765, 0.1804,  ..., 0.0784, 0.0784, 0.0784],\n",
              "          [0.1882, 0.1843, 0.1725,  ..., 0.0784, 0.0784, 0.0784],\n",
              "          ...,\n",
              "          [0.1922, 0.1765, 0.1922,  ..., 0.8000, 0.6980, 0.7137],\n",
              "          [0.1725, 0.1882, 0.2118,  ..., 0.7647, 0.6353, 0.7137],\n",
              "          [0.1490, 0.1961, 0.2314,  ..., 0.6941, 0.6588, 0.7098]],\n",
              "\n",
              "         [[0.1765, 0.1765, 0.1843,  ..., 0.0863, 0.0863, 0.0863],\n",
              "          [0.1882, 0.1882, 0.1922,  ..., 0.0902, 0.0902, 0.0902],\n",
              "          [0.2000, 0.1961, 0.1843,  ..., 0.0902, 0.0902, 0.0902],\n",
              "          ...,\n",
              "          [0.2471, 0.2196, 0.2196,  ..., 0.8196, 0.7176, 0.7333],\n",
              "          [0.2039, 0.2118, 0.2196,  ..., 0.7608, 0.6314, 0.7137],\n",
              "          [0.1569, 0.1961, 0.2157,  ..., 0.6627, 0.6235, 0.6745]],\n",
              "\n",
              "         [[0.1961, 0.1961, 0.2039,  ..., 0.1059, 0.1059, 0.1059],\n",
              "          [0.2078, 0.2078, 0.2118,  ..., 0.1098, 0.1098, 0.1098],\n",
              "          [0.2196, 0.2157, 0.2039,  ..., 0.1098, 0.1098, 0.1098],\n",
              "          ...,\n",
              "          [0.2353, 0.2196, 0.2275,  ..., 0.7608, 0.6667, 0.6745],\n",
              "          [0.2039, 0.2118, 0.2314,  ..., 0.7098, 0.5843, 0.6627],\n",
              "          [0.1647, 0.2078, 0.2353,  ..., 0.6235, 0.5882, 0.6431]]]])"
            ]
          },
          "metadata": {},
          "execution_count": 134
        }
      ]
    },
    {
      "cell_type": "code",
      "source": [
        "batch_training_proposal_RPN(image_torch, feature_shape, ratio, anchor_scales, gt_box_good_format,256,0.5,0.7,0.3)"
      ],
      "metadata": {
        "colab": {
          "base_uri": "https://localhost:8080/"
        },
        "id": "Ht0IYlmmGf4z",
        "outputId": "5f6a5a72-1e8c-4628-f557-7305f31d87bb"
      },
      "execution_count": 162,
      "outputs": [
        {
          "output_type": "stream",
          "name": "stdout",
          "text": [
            "12552\n",
            "[0. 0. 0. ... 0. 0. 0.]\n",
            "12552\n"
          ]
        },
        {
          "output_type": "execute_result",
          "data": {
            "text/plain": [
              "{'boxes': tensor([[ 1.5893,  0.2765,  0.6791,  0.5768],\n",
              "         [ 1.8640,  0.0768,  1.0168,  0.2427],\n",
              "         [ 0.1670, -0.0444,  1.0168,  0.2427],\n",
              "         ...,\n",
              "         [ 3.4397, -5.6202,  1.0168,  0.2427],\n",
              "         [ 1.8487, -7.8496,  0.6791,  0.5768],\n",
              "         [-0.0538, -7.8496,  0.6791,  0.5768]], dtype=torch.float64),\n",
              " 'image': tensor([[[[0.1647, 0.1647, 0.1725,  ..., 0.0745, 0.0745, 0.0745],\n",
              "           [0.1765, 0.1765, 0.1804,  ..., 0.0784, 0.0784, 0.0784],\n",
              "           [0.1882, 0.1843, 0.1725,  ..., 0.0784, 0.0784, 0.0784],\n",
              "           ...,\n",
              "           [0.1922, 0.1765, 0.1922,  ..., 0.8000, 0.6980, 0.7137],\n",
              "           [0.1725, 0.1882, 0.2118,  ..., 0.7647, 0.6353, 0.7137],\n",
              "           [0.1490, 0.1961, 0.2314,  ..., 0.6941, 0.6588, 0.7098]],\n",
              " \n",
              "          [[0.1765, 0.1765, 0.1843,  ..., 0.0863, 0.0863, 0.0863],\n",
              "           [0.1882, 0.1882, 0.1922,  ..., 0.0902, 0.0902, 0.0902],\n",
              "           [0.2000, 0.1961, 0.1843,  ..., 0.0902, 0.0902, 0.0902],\n",
              "           ...,\n",
              "           [0.2471, 0.2196, 0.2196,  ..., 0.8196, 0.7176, 0.7333],\n",
              "           [0.2039, 0.2118, 0.2196,  ..., 0.7608, 0.6314, 0.7137],\n",
              "           [0.1569, 0.1961, 0.2157,  ..., 0.6627, 0.6235, 0.6745]],\n",
              " \n",
              "          [[0.1961, 0.1961, 0.2039,  ..., 0.1059, 0.1059, 0.1059],\n",
              "           [0.2078, 0.2078, 0.2118,  ..., 0.1098, 0.1098, 0.1098],\n",
              "           [0.2196, 0.2157, 0.2039,  ..., 0.1098, 0.1098, 0.1098],\n",
              "           ...,\n",
              "           [0.2353, 0.2196, 0.2275,  ..., 0.7608, 0.6667, 0.6745],\n",
              "           [0.2039, 0.2118, 0.2314,  ..., 0.7098, 0.5843, 0.6627],\n",
              "           [0.1647, 0.2078, 0.2353,  ..., 0.6235, 0.5882, 0.6431]]]]),\n",
              " 'labels': tensor([1, 1, 1, 1, 1, 1, 1, 1, 1, 1, 1, 1, 1, 1, 1, 1, 1, 1, 1, 1, 1, 1, 1, 1,\n",
              "         1, 1, 1, 1, 1, 1, 1, 1, 1, 1, 1, 1, 1, 1, 1, 1, 1, 1, 1, 1, 1, 1, 1, 1,\n",
              "         1, 1, 1, 1, 1, 1, 1, 1, 1, 1, 1, 1, 1, 1, 1, 1, 1, 1, 1, 1, 1, 1, 1, 1,\n",
              "         1, 1, 1, 1, 1, 1, 1, 1, 1, 1, 1, 1, 1, 1, 1, 1, 1, 1, 1, 1, 1, 1, 1, 1,\n",
              "         1, 1, 1, 1, 1, 1, 1, 1, 1, 1, 1, 1, 1, 1, 1, 1, 1, 1, 1, 1, 1, 1, 1, 1,\n",
              "         1, 1, 1, 1, 1, 1, 1, 1, 1, 1, 1, 1, 1, 1, 1, 1, 1, 1, 1, 1, 1, 1, 1, 1,\n",
              "         1, 1, 1, 1, 1, 1, 1, 1, 1, 1, 1, 1, 1, 1, 1, 1, 1, 1, 1, 1, 1, 1, 1, 1,\n",
              "         1, 1, 1, 1, 1, 1, 1, 1, 1, 1, 1, 1, 1, 1, 1, 1, 1, 1, 1, 1, 1, 1, 1, 1,\n",
              "         1, 1, 1, 1, 1, 1, 1, 1, 1, 1, 1, 1, 1, 1, 1, 1, 1, 1, 1, 1, 1, 1, 1, 1,\n",
              "         1, 1, 1, 1, 1, 1, 1, 1, 1, 1, 1, 1, 1, 1, 1, 1, 1, 1, 1, 1, 1, 1, 1, 1,\n",
              "         1, 1, 1, 1, 1, 1, 1, 1, 1, 1, 1, 1, 1, 1, 1, 1])}"
            ]
          },
          "metadata": {},
          "execution_count": 162
        }
      ]
    },
    {
      "cell_type": "code",
      "source": [
        "gt_box_good_format"
      ],
      "metadata": {
        "colab": {
          "base_uri": "https://localhost:8080/"
        },
        "id": "006dJ8gNMLe0",
        "outputId": "12665f6c-225d-4ebd-ee41-a11684f38660"
      },
      "execution_count": 161,
      "outputs": [
        {
          "output_type": "execute_result",
          "data": {
            "text/plain": [
              "[array([1.34401220e+02, 9.15032680e-04, 2.24621002e+02, 4.10657516e+01]),\n",
              " array([ 77.78235294, 156.33481013, 103.90873622, 181.99879725])]"
            ]
          },
          "metadata": {},
          "execution_count": 161
        }
      ]
    },
    {
      "cell_type": "code",
      "source": [
        " ab = anchor_boxes(ratio, [2,4,8], tuple(image_torch.shape[2:]), tuple(feature_shape[2:]))\n",
        " ab = [box for box in ab if check_anchor_inside(box, image_torch.shape[2:])]\n",
        "lab = label_from_iou(iou_anchors_vs_gtbox(ab,\n",
        "                     gt_box_good_format))"
      ],
      "metadata": {
        "colab": {
          "base_uri": "https://localhost:8080/"
        },
        "id": "wrSEtjSKOz8P",
        "outputId": "cc3d5ace-331b-4ff7-fa27-b1b62e3c24c9"
      },
      "execution_count": 206,
      "outputs": [
        {
          "output_type": "stream",
          "name": "stdout",
          "text": [
            "23556\n"
          ]
        }
      ]
    },
    {
      "cell_type": "code",
      "source": [
        "index_training_proposal(iou_anchors_vs_gtbox(ab,\n",
        "                     gt_box_good_format),256,0.5)"
      ],
      "metadata": {
        "colab": {
          "base_uri": "https://localhost:8080/"
        },
        "id": "OxWTC0K5Vl98",
        "outputId": "a282d009-6b93-48b3-c715-eb798a9e5c62"
      },
      "execution_count": 196,
      "outputs": [
        {
          "output_type": "stream",
          "name": "stdout",
          "text": [
            "23556\n",
            "[0. 0. 0. ... 0. 0. 0.]\n"
          ]
        },
        {
          "output_type": "execute_result",
          "data": {
            "text/plain": [
              "array([   59,   338,   349,   614,   648,   730,   736,   743,   750,\n",
              "         757,   764,   771,   778,   785,   792,   799,   806,   955,\n",
              "         979,   985,  1085,  1133,  1141,  1149,  1157,  1165,  1173,\n",
              "        1181,  1189,  1193,  1197,  1205,  1213,  1252,  1293,  1441,\n",
              "        1543,  1551,  1559,  1567,  1575,  1583,  1587,  1591,  1599,\n",
              "        1607,  1615,  1623,  1706,  1772,  1826,  1943,  1989,  1998,\n",
              "        2007,  2016,  2025,  2034,  2043,  2052,  2057,  2061,  2070,\n",
              "        2079,  2116,  2125,  2126,  2168,  2375,  2382,  2475,  2563,\n",
              "        2612,  2614,  2646,  2721,  3028,  3078,  3127,  3280,  3295,\n",
              "        3744,  3881,  3914,  4137,  4201,  4290,  4378,  4423,  4484,\n",
              "        4683,  4704,  4907,  4910,  4944,  5050,  5443,  5723,  5856,\n",
              "        5950,  6264,  6670,  6777,  6786,  6917,  6973,  7149,  7230,\n",
              "        7374,  7501,  7552,  7721,  7763,  7864,  8043,  8058,  8095,\n",
              "        8134,  8159,  8191,  8230,  8365,  8529,  8727,  8778,  8784,\n",
              "        8868,  9023,  9106,  9195,  9237,  9262,  9280,  9414,  9525,\n",
              "        9623,  9727,  9742,  9905,  9962,  9980, 10094, 10106, 10109,\n",
              "       10140, 10142, 10150, 10181, 10198, 10640, 10684, 10745, 10769,\n",
              "       10864, 11012, 11367, 11601, 11657, 11819, 12060, 12234, 12344,\n",
              "       12552, 12660, 12732, 12854, 12956, 12972, 12984, 13131, 13257,\n",
              "       13314, 13814, 14008, 14025, 14038, 14059, 14102, 14168, 14324,\n",
              "       14355, 14414, 14460, 14480, 14541, 14829, 14878, 14969, 14981,\n",
              "       15067, 15347, 15363, 15370, 15536, 15597, 15719, 15726, 15741,\n",
              "       15927, 16371, 16434, 16454, 16606, 16624, 16743, 16789, 16951,\n",
              "       16974, 17032, 17151, 17249, 17260, 17343, 17492, 17619, 17792,\n",
              "       17876, 17939, 17940, 17987, 18179, 18307, 18399, 18485, 18544,\n",
              "       18561, 18616, 18787, 18830, 19209, 19215, 19441, 19565, 19567,\n",
              "       20035, 20054, 20141, 20354, 20454, 20807, 20883, 20968, 21028,\n",
              "       22053, 22218, 22382, 22408, 22460, 22548, 22675, 22824, 23151,\n",
              "       23189, 23457, 23524, 23533])"
            ]
          },
          "metadata": {},
          "execution_count": 196
        }
      ]
    },
    {
      "cell_type": "code",
      "source": [
        "_,lab = reparam_all_anchors(ab,gt_box_good_format,0.7, 0.3)"
      ],
      "metadata": {
        "colab": {
          "base_uri": "https://localhost:8080/"
        },
        "id": "oXThRXM7UmBY",
        "outputId": "79819a6c-8ca2-4213-aa79-87ce4a00694f"
      },
      "execution_count": 214,
      "outputs": [
        {
          "output_type": "stream",
          "name": "stdout",
          "text": [
            "23556\n"
          ]
        }
      ]
    },
    {
      "cell_type": "code",
      "source": [
        "np.where((lab == 1))"
      ],
      "metadata": {
        "colab": {
          "base_uri": "https://localhost:8080/"
        },
        "id": "kE1aYKjOXacj",
        "outputId": "93f4a0ea-41bf-4afd-ade7-9d55debb9014"
      },
      "execution_count": 213,
      "outputs": [
        {
          "output_type": "execute_result",
          "data": {
            "text/plain": [
              "(array([  736,   743,   750,   757,   764,   771,   778,   785,   792,\n",
              "          799,   806,  1133,  1141,  1149,  1157,  1165,  1173,  1181,\n",
              "         1189,  1197,  1205,  1213,  1543,  1551,  1559,  1567,  1575,\n",
              "         1583,  1591,  1599,  1607,  1615,  1623,  1989,  1998,  2007,\n",
              "         2016,  2025,  2034,  2043,  2052,  2061,  2070,  2079, 17479,\n",
              "        17482, 17930, 17939, 17942, 17948, 18378, 18387, 18390, 18396,\n",
              "        18399, 18402, 18405, 18408, 18414, 18850, 18859, 18862, 18868,\n",
              "        19322]),)"
            ]
          },
          "metadata": {},
          "execution_count": 213
        }
      ]
    }
  ],
  "metadata": {
    "kernelspec": {
      "display_name": "stat_app",
      "language": "python",
      "name": "stat_app"
    },
    "language_info": {
      "codemirror_mode": {
        "name": "ipython",
        "version": 3
      },
      "file_extension": ".py",
      "mimetype": "text/x-python",
      "name": "python",
      "nbconvert_exporter": "python",
      "pygments_lexer": "ipython3",
      "version": "3.8.5"
    },
    "toc": {
      "base_numbering": 1,
      "nav_menu": {},
      "number_sections": true,
      "sideBar": true,
      "skip_h1_title": false,
      "title_cell": "Table of Contents",
      "title_sidebar": "Contents",
      "toc_cell": true,
      "toc_position": {},
      "toc_section_display": true,
      "toc_window_display": false
    },
    "varInspector": {
      "cols": {
        "lenName": 16,
        "lenType": 16,
        "lenVar": 40
      },
      "kernels_config": {
        "python": {
          "delete_cmd_postfix": "",
          "delete_cmd_prefix": "del ",
          "library": "var_list.py",
          "varRefreshCmd": "print(var_dic_list())"
        },
        "r": {
          "delete_cmd_postfix": ") ",
          "delete_cmd_prefix": "rm(",
          "library": "var_list.r",
          "varRefreshCmd": "cat(var_dic_list()) "
        }
      },
      "types_to_exclude": [
        "module",
        "function",
        "builtin_function_or_method",
        "instance",
        "_Feature"
      ],
      "window_display": false
    },
    "colab": {
      "name": "anchor_boxes.ipynb",
      "provenance": [],
      "collapsed_sections": [
        "cp5YhD2Qb_7m"
      ],
      "toc_visible": true,
      "include_colab_link": true
    },
    "widgets": {
      "application/vnd.jupyter.widget-state+json": {
        "dcba7a54413f4d08b0139a10196a554a": {
          "model_module": "@jupyter-widgets/controls",
          "model_name": "HBoxModel",
          "model_module_version": "1.5.0",
          "state": {
            "_view_name": "HBoxView",
            "_dom_classes": [],
            "_model_name": "HBoxModel",
            "_view_module": "@jupyter-widgets/controls",
            "_model_module_version": "1.5.0",
            "_view_count": null,
            "_view_module_version": "1.5.0",
            "box_style": "",
            "layout": "IPY_MODEL_8ecd048412434c259e5a71e7e3073ff2",
            "_model_module": "@jupyter-widgets/controls",
            "children": [
              "IPY_MODEL_04fb0dea1b3f4b0886edc6c71bfae71d",
              "IPY_MODEL_6e7f8e6b5c2a4c65b7adacb223f68368",
              "IPY_MODEL_ab54749f31d94ef09e7f5c85246534b5"
            ]
          }
        },
        "8ecd048412434c259e5a71e7e3073ff2": {
          "model_module": "@jupyter-widgets/base",
          "model_name": "LayoutModel",
          "model_module_version": "1.2.0",
          "state": {
            "_view_name": "LayoutView",
            "grid_template_rows": null,
            "right": null,
            "justify_content": null,
            "_view_module": "@jupyter-widgets/base",
            "overflow": null,
            "_model_module_version": "1.2.0",
            "_view_count": null,
            "flex_flow": null,
            "width": null,
            "min_width": null,
            "border": null,
            "align_items": null,
            "bottom": null,
            "_model_module": "@jupyter-widgets/base",
            "top": null,
            "grid_column": null,
            "overflow_y": null,
            "overflow_x": null,
            "grid_auto_flow": null,
            "grid_area": null,
            "grid_template_columns": null,
            "flex": null,
            "_model_name": "LayoutModel",
            "justify_items": null,
            "grid_row": null,
            "max_height": null,
            "align_content": null,
            "visibility": null,
            "align_self": null,
            "height": null,
            "min_height": null,
            "padding": null,
            "grid_auto_rows": null,
            "grid_gap": null,
            "max_width": null,
            "order": null,
            "_view_module_version": "1.2.0",
            "grid_template_areas": null,
            "object_position": null,
            "object_fit": null,
            "grid_auto_columns": null,
            "margin": null,
            "display": null,
            "left": null
          }
        },
        "04fb0dea1b3f4b0886edc6c71bfae71d": {
          "model_module": "@jupyter-widgets/controls",
          "model_name": "HTMLModel",
          "model_module_version": "1.5.0",
          "state": {
            "_view_name": "HTMLView",
            "style": "IPY_MODEL_afd5c82082344e129d5e0da1f953493f",
            "_dom_classes": [],
            "description": "",
            "_model_name": "HTMLModel",
            "placeholder": "​",
            "_view_module": "@jupyter-widgets/controls",
            "_model_module_version": "1.5.0",
            "value": "100%",
            "_view_count": null,
            "_view_module_version": "1.5.0",
            "description_tooltip": null,
            "_model_module": "@jupyter-widgets/controls",
            "layout": "IPY_MODEL_3301c869dd6d43cdbfc0b93f8ada77f8"
          }
        },
        "6e7f8e6b5c2a4c65b7adacb223f68368": {
          "model_module": "@jupyter-widgets/controls",
          "model_name": "FloatProgressModel",
          "model_module_version": "1.5.0",
          "state": {
            "_view_name": "ProgressView",
            "style": "IPY_MODEL_e7654a2f66e1406dbc935dfed7b213c5",
            "_dom_classes": [],
            "description": "",
            "_model_name": "FloatProgressModel",
            "bar_style": "success",
            "max": 102530333,
            "_view_module": "@jupyter-widgets/controls",
            "_model_module_version": "1.5.0",
            "value": 102530333,
            "_view_count": null,
            "_view_module_version": "1.5.0",
            "orientation": "horizontal",
            "min": 0,
            "description_tooltip": null,
            "_model_module": "@jupyter-widgets/controls",
            "layout": "IPY_MODEL_e725291002cb4a838de5f692969ba40f"
          }
        },
        "ab54749f31d94ef09e7f5c85246534b5": {
          "model_module": "@jupyter-widgets/controls",
          "model_name": "HTMLModel",
          "model_module_version": "1.5.0",
          "state": {
            "_view_name": "HTMLView",
            "style": "IPY_MODEL_7ba59efe349846bb881efb267fa68ef5",
            "_dom_classes": [],
            "description": "",
            "_model_name": "HTMLModel",
            "placeholder": "​",
            "_view_module": "@jupyter-widgets/controls",
            "_model_module_version": "1.5.0",
            "value": " 97.8M/97.8M [00:01&lt;00:00, 66.6MB/s]",
            "_view_count": null,
            "_view_module_version": "1.5.0",
            "description_tooltip": null,
            "_model_module": "@jupyter-widgets/controls",
            "layout": "IPY_MODEL_0ebdd2e9d38f4728a68dd36b56df0cb5"
          }
        },
        "afd5c82082344e129d5e0da1f953493f": {
          "model_module": "@jupyter-widgets/controls",
          "model_name": "DescriptionStyleModel",
          "model_module_version": "1.5.0",
          "state": {
            "_view_name": "StyleView",
            "_model_name": "DescriptionStyleModel",
            "description_width": "",
            "_view_module": "@jupyter-widgets/base",
            "_model_module_version": "1.5.0",
            "_view_count": null,
            "_view_module_version": "1.2.0",
            "_model_module": "@jupyter-widgets/controls"
          }
        },
        "3301c869dd6d43cdbfc0b93f8ada77f8": {
          "model_module": "@jupyter-widgets/base",
          "model_name": "LayoutModel",
          "model_module_version": "1.2.0",
          "state": {
            "_view_name": "LayoutView",
            "grid_template_rows": null,
            "right": null,
            "justify_content": null,
            "_view_module": "@jupyter-widgets/base",
            "overflow": null,
            "_model_module_version": "1.2.0",
            "_view_count": null,
            "flex_flow": null,
            "width": null,
            "min_width": null,
            "border": null,
            "align_items": null,
            "bottom": null,
            "_model_module": "@jupyter-widgets/base",
            "top": null,
            "grid_column": null,
            "overflow_y": null,
            "overflow_x": null,
            "grid_auto_flow": null,
            "grid_area": null,
            "grid_template_columns": null,
            "flex": null,
            "_model_name": "LayoutModel",
            "justify_items": null,
            "grid_row": null,
            "max_height": null,
            "align_content": null,
            "visibility": null,
            "align_self": null,
            "height": null,
            "min_height": null,
            "padding": null,
            "grid_auto_rows": null,
            "grid_gap": null,
            "max_width": null,
            "order": null,
            "_view_module_version": "1.2.0",
            "grid_template_areas": null,
            "object_position": null,
            "object_fit": null,
            "grid_auto_columns": null,
            "margin": null,
            "display": null,
            "left": null
          }
        },
        "e7654a2f66e1406dbc935dfed7b213c5": {
          "model_module": "@jupyter-widgets/controls",
          "model_name": "ProgressStyleModel",
          "model_module_version": "1.5.0",
          "state": {
            "_view_name": "StyleView",
            "_model_name": "ProgressStyleModel",
            "description_width": "",
            "_view_module": "@jupyter-widgets/base",
            "_model_module_version": "1.5.0",
            "_view_count": null,
            "_view_module_version": "1.2.0",
            "bar_color": null,
            "_model_module": "@jupyter-widgets/controls"
          }
        },
        "e725291002cb4a838de5f692969ba40f": {
          "model_module": "@jupyter-widgets/base",
          "model_name": "LayoutModel",
          "model_module_version": "1.2.0",
          "state": {
            "_view_name": "LayoutView",
            "grid_template_rows": null,
            "right": null,
            "justify_content": null,
            "_view_module": "@jupyter-widgets/base",
            "overflow": null,
            "_model_module_version": "1.2.0",
            "_view_count": null,
            "flex_flow": null,
            "width": null,
            "min_width": null,
            "border": null,
            "align_items": null,
            "bottom": null,
            "_model_module": "@jupyter-widgets/base",
            "top": null,
            "grid_column": null,
            "overflow_y": null,
            "overflow_x": null,
            "grid_auto_flow": null,
            "grid_area": null,
            "grid_template_columns": null,
            "flex": null,
            "_model_name": "LayoutModel",
            "justify_items": null,
            "grid_row": null,
            "max_height": null,
            "align_content": null,
            "visibility": null,
            "align_self": null,
            "height": null,
            "min_height": null,
            "padding": null,
            "grid_auto_rows": null,
            "grid_gap": null,
            "max_width": null,
            "order": null,
            "_view_module_version": "1.2.0",
            "grid_template_areas": null,
            "object_position": null,
            "object_fit": null,
            "grid_auto_columns": null,
            "margin": null,
            "display": null,
            "left": null
          }
        },
        "7ba59efe349846bb881efb267fa68ef5": {
          "model_module": "@jupyter-widgets/controls",
          "model_name": "DescriptionStyleModel",
          "model_module_version": "1.5.0",
          "state": {
            "_view_name": "StyleView",
            "_model_name": "DescriptionStyleModel",
            "description_width": "",
            "_view_module": "@jupyter-widgets/base",
            "_model_module_version": "1.5.0",
            "_view_count": null,
            "_view_module_version": "1.2.0",
            "_model_module": "@jupyter-widgets/controls"
          }
        },
        "0ebdd2e9d38f4728a68dd36b56df0cb5": {
          "model_module": "@jupyter-widgets/base",
          "model_name": "LayoutModel",
          "model_module_version": "1.2.0",
          "state": {
            "_view_name": "LayoutView",
            "grid_template_rows": null,
            "right": null,
            "justify_content": null,
            "_view_module": "@jupyter-widgets/base",
            "overflow": null,
            "_model_module_version": "1.2.0",
            "_view_count": null,
            "flex_flow": null,
            "width": null,
            "min_width": null,
            "border": null,
            "align_items": null,
            "bottom": null,
            "_model_module": "@jupyter-widgets/base",
            "top": null,
            "grid_column": null,
            "overflow_y": null,
            "overflow_x": null,
            "grid_auto_flow": null,
            "grid_area": null,
            "grid_template_columns": null,
            "flex": null,
            "_model_name": "LayoutModel",
            "justify_items": null,
            "grid_row": null,
            "max_height": null,
            "align_content": null,
            "visibility": null,
            "align_self": null,
            "height": null,
            "min_height": null,
            "padding": null,
            "grid_auto_rows": null,
            "grid_gap": null,
            "max_width": null,
            "order": null,
            "_view_module_version": "1.2.0",
            "grid_template_areas": null,
            "object_position": null,
            "object_fit": null,
            "grid_auto_columns": null,
            "margin": null,
            "display": null,
            "left": null
          }
        }
      }
    }
  },
  "nbformat": 4,
  "nbformat_minor": 0
}